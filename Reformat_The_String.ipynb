{
  "nbformat": 4,
  "nbformat_minor": 0,
  "metadata": {
    "colab": {
      "name": "Reformat The String.ipynb",
      "provenance": [],
      "authorship_tag": "ABX9TyPiosTkN77G7wdu8JE19GcQ",
      "include_colab_link": true
    },
    "kernelspec": {
      "name": "python3",
      "display_name": "Python 3"
    }
  },
  "cells": [
    {
      "cell_type": "markdown",
      "metadata": {
        "id": "view-in-github",
        "colab_type": "text"
      },
      "source": [
        "<a href=\"https://colab.research.google.com/github/patternproject/p.LeetCode/blob/master/Reformat_The_String.ipynb\" target=\"_parent\"><img src=\"https://colab.research.google.com/assets/colab-badge.svg\" alt=\"Open In Colab\"/></a>"
      ]
    },
    {
      "cell_type": "markdown",
      "metadata": {
        "id": "pASNt2Q3Y48u",
        "colab_type": "text"
      },
      "source": [
        "# Leet Code"
      ]
    },
    {
      "cell_type": "markdown",
      "metadata": {
        "id": "z5tVq7pbY5Hy",
        "colab_type": "text"
      },
      "source": [
        "## Reformat the String"
      ]
    },
    {
      "cell_type": "code",
      "metadata": {
        "id": "JOD_oap_Y80M",
        "colab_type": "code",
        "colab": {}
      },
      "source": [
        "# Test Vector\n",
        "s1 = \"a0b1c2\"\n",
        "s2 = \"leetcode\"\n",
        "s3 = \"1229857369\"\n",
        "s4 = \"covid2019\""
      ],
      "execution_count": 0,
      "outputs": []
    },
    {
      "cell_type": "code",
      "metadata": {
        "id": "Stf2vjKbZTyO",
        "colab_type": "code",
        "colab": {}
      },
      "source": [
        "class Solution:\n",
        "  def reformat(self,s):\n",
        "    # if only characters or only digits\n",
        "    if(s.isalpha() | s.isdecimal()):\n",
        "      return(\"\")\n",
        "    else:\n",
        "      return(\"hellp\")\n"
      ],
      "execution_count": 0,
      "outputs": []
    },
    {
      "cell_type": "code",
      "metadata": {
        "id": "kzk5d9NaZaxB",
        "colab_type": "code",
        "colab": {}
      },
      "source": [
        "f1 = Solution()"
      ],
      "execution_count": 0,
      "outputs": []
    },
    {
      "cell_type": "code",
      "metadata": {
        "id": "n6pnptBWaT2o",
        "colab_type": "code",
        "colab": {
          "base_uri": "https://localhost:8080/",
          "height": 34
        },
        "outputId": "904d9c56-054f-459c-dc4b-ea5d8bc280a1"
      },
      "source": [
        "f1.reformat(s2)"
      ],
      "execution_count": 8,
      "outputs": [
        {
          "output_type": "execute_result",
          "data": {
            "text/plain": [
              "''"
            ]
          },
          "metadata": {
            "tags": []
          },
          "execution_count": 8
        }
      ]
    },
    {
      "cell_type": "code",
      "metadata": {
        "id": "8IQ6nb3xaVmj",
        "colab_type": "code",
        "colab": {
          "base_uri": "https://localhost:8080/",
          "height": 34
        },
        "outputId": "fc6c69c5-0175-4924-c944-2914be3782a8"
      },
      "source": [
        "f1.reformat(s3)"
      ],
      "execution_count": 9,
      "outputs": [
        {
          "output_type": "execute_result",
          "data": {
            "text/plain": [
              "''"
            ]
          },
          "metadata": {
            "tags": []
          },
          "execution_count": 9
        }
      ]
    },
    {
      "cell_type": "code",
      "metadata": {
        "id": "QrK1poX8gLF4",
        "colab_type": "code",
        "colab": {
          "base_uri": "https://localhost:8080/",
          "height": 34
        },
        "outputId": "735b8088-df36-4941-c08d-c8daa53e5b08"
      },
      "source": [
        "s10 = 'ab'\n",
        "if(len(s10)%2==0):\n",
        "  print('yo')\n",
        "\n",
        "if()  "
      ],
      "execution_count": 15,
      "outputs": [
        {
          "output_type": "stream",
          "text": [
            "yo\n"
          ],
          "name": "stdout"
        }
      ]
    },
    {
      "cell_type": "markdown",
      "metadata": {
        "id": "Jwe2gT1IjTwE",
        "colab_type": "text"
      },
      "source": [
        "### Non Working Solution\n",
        "\n",
        "#### Issues\n",
        "1. Do we keep seperate list for storing the reformatted string/output\n",
        "2. How to skip already seen digit/ch as to not use them again and again (re.search will find it over and over unless you specifiy starting index)\n",
        "3. If you want to remove ch/digit already processed, then need a buffer_count to ensure top for loop runs correctly"
      ]
    },
    {
      "cell_type": "code",
      "metadata": {
        "id": "aWjV00F6cdER",
        "colab_type": "code",
        "colab": {}
      },
      "source": [
        "import re"
      ],
      "execution_count": 0,
      "outputs": []
    },
    {
      "cell_type": "code",
      "metadata": {
        "id": "jva6f0Wracdf",
        "colab_type": "code",
        "colab": {}
      },
      "source": [
        "class Solution:\n",
        "  def reformat(self,s):\n",
        "    # if only characters or only digits\n",
        "    if(s.isalpha() | s.isdecimal()):\n",
        "      return(\"\")\n",
        "    else:\n",
        "      #return_st = ''\n",
        "      for i in range(len(s)):\n",
        "        # if last part of string and odd-lengthed string\n",
        "        if(i == len(s) and (len(s)%2!=0)):\n",
        "          if(s[i].isalpha() and s[i-1].isalpha()):\n",
        "\n",
        "        # else check if both current and next are ch\n",
        "        elif(s[i].isalpha() and s[i+1].isalpha()):\n",
        "          # find next digit\n",
        "          ret = re.search(\"\\d\", s)\n",
        "          if(None != ret):\n",
        "            # original ch\n",
        "            return_st.append(s[i])\n",
        "            # digit found\n",
        "            return_st.append(s[ret.start()])\n",
        "        # else check if both current and next are digit\n",
        "        elif(s[i].isdecimal() and s[i+1].isdecimal()):\n",
        "          # find next ch\n",
        "          ret = re.search(\"\\w\", s)\n",
        "          if(None != ret):\n",
        "            # original ch\n",
        "            return_st.append(s[i])\n",
        "            # ch found\n",
        "            return_st.append(s[ret.start()])\n",
        "\n",
        "\n",
        "          \n",
        "\n"
      ],
      "execution_count": 0,
      "outputs": []
    },
    {
      "cell_type": "code",
      "metadata": {
        "id": "yS5GbRnefamw",
        "colab_type": "code",
        "colab": {}
      },
      "source": [
        ""
      ],
      "execution_count": 0,
      "outputs": []
    }
  ]
}