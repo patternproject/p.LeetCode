{
  "nbformat": 4,
  "nbformat_minor": 0,
  "metadata": {
    "colab": {
      "name": "Product of Array Except Self.ipynb",
      "provenance": [],
      "authorship_tag": "ABX9TyNtUx2qI0DiDfLmPErYV1KT",
      "include_colab_link": true
    },
    "kernelspec": {
      "name": "python3",
      "display_name": "Python 3"
    }
  },
  "cells": [
    {
      "cell_type": "markdown",
      "metadata": {
        "id": "view-in-github",
        "colab_type": "text"
      },
      "source": [
        "<a href=\"https://colab.research.google.com/github/patternproject/p.LeetCode/blob/master/Product_of_Array_Except_Self.ipynb\" target=\"_parent\"><img src=\"https://colab.research.google.com/assets/colab-badge.svg\" alt=\"Open In Colab\"/></a>"
      ]
    },
    {
      "cell_type": "markdown",
      "metadata": {
        "id": "GGI6Ogl6URM0",
        "colab_type": "text"
      },
      "source": [
        "# Leet Code"
      ]
    },
    {
      "cell_type": "markdown",
      "metadata": {
        "id": "uVIsM9VYUTgA",
        "colab_type": "text"
      },
      "source": [
        "## Product of Array Except Self\n",
        "\n",
        "Given an array nums of n integers where n > 1,  return an array output such that output[i] is equal to the product of all the elements of nums except nums[i]."
      ]
    },
    {
      "cell_type": "markdown",
      "metadata": {
        "id": "4rSC-38-UW1l",
        "colab_type": "text"
      },
      "source": [
        "Example:\n",
        "\n",
        "Input:  [1,2,3,4]\n",
        "Output: [24,12,8,6]"
      ]
    },
    {
      "cell_type": "markdown",
      "metadata": {
        "id": "nr1N6nzcUbHU",
        "colab_type": "text"
      },
      "source": [
        "Constraint: It's guaranteed that the product of the elements of any prefix or suffix of the array (including the whole array) fits in a 32 bit integer.\n",
        "\n",
        "Note: Please solve it without division and in O(n).\n",
        "\n",
        "Follow up:\n",
        "Could you solve it with constant space complexity? (The output array does not count as extra space for the purpose of space complexity analysis.)"
      ]
    },
    {
      "cell_type": "code",
      "metadata": {
        "id": "amk2wtu4Ua0p",
        "colab_type": "code",
        "colab": {}
      },
      "source": [
        ""
      ],
      "execution_count": 0,
      "outputs": []
    },
    {
      "cell_type": "code",
      "metadata": {
        "id": "xtEE03xQUSbk",
        "colab_type": "code",
        "colab": {}
      },
      "source": [
        ""
      ],
      "execution_count": 0,
      "outputs": []
    }
  ]
}