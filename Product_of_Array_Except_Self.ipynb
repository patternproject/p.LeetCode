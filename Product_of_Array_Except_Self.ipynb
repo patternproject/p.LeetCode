{
  "nbformat": 4,
  "nbformat_minor": 0,
  "metadata": {
    "colab": {
      "name": "Product of Array Except Self.ipynb",
      "provenance": [],
      "authorship_tag": "ABX9TyM3AUpvl0xv4sOw7/R/vcTf",
      "include_colab_link": true
    },
    "kernelspec": {
      "name": "python3",
      "display_name": "Python 3"
    }
  },
  "cells": [
    {
      "cell_type": "markdown",
      "metadata": {
        "id": "view-in-github",
        "colab_type": "text"
      },
      "source": [
        "<a href=\"https://colab.research.google.com/github/patternproject/p.LeetCode/blob/master/Product_of_Array_Except_Self.ipynb\" target=\"_parent\"><img src=\"https://colab.research.google.com/assets/colab-badge.svg\" alt=\"Open In Colab\"/></a>"
      ]
    },
    {
      "cell_type": "markdown",
      "metadata": {
        "id": "GGI6Ogl6URM0",
        "colab_type": "text"
      },
      "source": [
        "# Leet Code"
      ]
    },
    {
      "cell_type": "markdown",
      "metadata": {
        "id": "uVIsM9VYUTgA",
        "colab_type": "text"
      },
      "source": [
        "## Product of Array Except Self\n",
        "\n",
        "Given an array nums of n integers where n > 1,  return an array output such that output[i] is equal to the product of all the elements of nums except nums[i]."
      ]
    },
    {
      "cell_type": "markdown",
      "metadata": {
        "id": "4rSC-38-UW1l",
        "colab_type": "text"
      },
      "source": [
        "Example:\n",
        "\n",
        "Input:  [1,2,3,4]\n",
        "Output: [24,12,8,6]"
      ]
    },
    {
      "cell_type": "markdown",
      "metadata": {
        "id": "nr1N6nzcUbHU",
        "colab_type": "text"
      },
      "source": [
        "Constraint: It's guaranteed that the product of the elements of any prefix or suffix of the array (including the whole array) fits in a 32 bit integer.\n",
        "\n",
        "Note: Please solve it without division and in O(n).\n",
        "\n",
        "Follow up:\n",
        "Could you solve it with constant space complexity? (The output array does not count as extra space for the purpose of space complexity analysis.)"
      ]
    },
    {
      "cell_type": "code",
      "metadata": {
        "id": "amk2wtu4Ua0p",
        "colab_type": "code",
        "colab": {}
      },
      "source": [
        "# Test Vector\n",
        "input = [1,2,3,4]"
      ],
      "execution_count": 0,
      "outputs": []
    },
    {
      "cell_type": "code",
      "metadata": {
        "id": "xtEE03xQUSbk",
        "colab_type": "code",
        "colab": {
          "base_uri": "https://localhost:8080/",
          "height": 34
        },
        "outputId": "b2412c94-0bc2-4556-db54-7702a7f46097"
      },
      "source": [
        "'''\n",
        "class Solution:\n",
        "    def productExceptSelf(self, nums: List[int]) -> List[int]:\n",
        "      pass\n",
        "'''"
      ],
      "execution_count": 3,
      "outputs": [
        {
          "output_type": "execute_result",
          "data": {
            "text/plain": [
              "'\\nclass Solution:\\n    def productExceptSelf(self, nums: List[int]) -> List[int]:\\n      pass\\n'"
            ]
          },
          "metadata": {
            "tags": []
          },
          "execution_count": 3
        }
      ]
    },
    {
      "cell_type": "markdown",
      "metadata": {
        "id": "19evmIjTX9L3",
        "colab_type": "text"
      },
      "source": [
        "### splitting the list but not missing the index element"
      ]
    },
    {
      "cell_type": "code",
      "metadata": {
        "id": "279Z9D0kVtdC",
        "colab_type": "code",
        "colab": {}
      },
      "source": [
        "class Solution:\n",
        "    def productExceptSelf(self, nums) -> int:\n",
        "      output_list = []\n",
        "      input_len = len(nums)\n",
        "      for i in range(input_len):\n",
        "        pre = list(range(0,i))\n",
        "        print(f' ---- pre')\n",
        "        print(f'{range(0,i)}')\n",
        "        print(f'{pre}')\n",
        "        post = list(range(i,input_len))\n",
        "        print(f' ---- post')\n",
        "        print(f'{range(i,input_len)}')\n",
        "        print(f'{post}')\n",
        "        print(f'\\n')\n",
        "\n",
        "        #print(f'{nums[range(0:i)]} {}')\n",
        "      #print(nums)"
      ],
      "execution_count": 0,
      "outputs": []
    },
    {
      "cell_type": "code",
      "metadata": {
        "id": "WwTLxeE3V1IC",
        "colab_type": "code",
        "colab": {}
      },
      "source": [
        "s = Solution()"
      ],
      "execution_count": 0,
      "outputs": []
    },
    {
      "cell_type": "code",
      "metadata": {
        "id": "u5ko1-LHWyNk",
        "colab_type": "code",
        "colab": {
          "base_uri": "https://localhost:8080/",
          "height": 585
        },
        "outputId": "4f629d50-8491-4695-9dba-be1ae1fa6661"
      },
      "source": [
        "s.productExceptSelf(input)"
      ],
      "execution_count": 22,
      "outputs": [
        {
          "output_type": "stream",
          "text": [
            " ---- pre\n",
            "range(0, 0)\n",
            "[]\n",
            " ---- post\n",
            "range(0, 4)\n",
            "[0, 1, 2, 3]\n",
            "\n",
            "\n",
            " ---- pre\n",
            "range(0, 1)\n",
            "[0]\n",
            " ---- post\n",
            "range(1, 4)\n",
            "[1, 2, 3]\n",
            "\n",
            "\n",
            " ---- pre\n",
            "range(0, 2)\n",
            "[0, 1]\n",
            " ---- post\n",
            "range(2, 4)\n",
            "[2, 3]\n",
            "\n",
            "\n",
            " ---- pre\n",
            "range(0, 3)\n",
            "[0, 1, 2]\n",
            " ---- post\n",
            "range(3, 4)\n",
            "[3]\n",
            "\n",
            "\n"
          ],
          "name": "stdout"
        }
      ]
    },
    {
      "cell_type": "markdown",
      "metadata": {
        "id": "3atvVlHJYEBB",
        "colab_type": "text"
      },
      "source": [
        "### splitting the list AND missing the index element"
      ]
    },
    {
      "cell_type": "code",
      "metadata": {
        "id": "y13bAD5oWzzT",
        "colab_type": "code",
        "colab": {}
      },
      "source": [
        "class Solution:\n",
        "    def productExceptSelf(self, nums) -> int:\n",
        "      output_list = []\n",
        "      input_len = len(nums)\n",
        "      for i in range(input_len):\n",
        "        pre = list(range(0,i))\n",
        "        print(f' ---- pre')\n",
        "        print(f'{range(0,i)}')\n",
        "        print(f'{pre}')\n",
        "        post = list(range(i+1,input_len))\n",
        "        print(f' ---- post')\n",
        "        print(f'{range(i+1,input_len)}')\n",
        "        print(f'{post}')\n",
        "        print(f'\\n')"
      ],
      "execution_count": 0,
      "outputs": []
    },
    {
      "cell_type": "code",
      "metadata": {
        "id": "rXBpTk4UYOfh",
        "colab_type": "code",
        "colab": {}
      },
      "source": [
        "s1 = Solution()"
      ],
      "execution_count": 0,
      "outputs": []
    },
    {
      "cell_type": "code",
      "metadata": {
        "id": "S6U0cEm7YQpi",
        "colab_type": "code",
        "colab": {
          "base_uri": "https://localhost:8080/",
          "height": 585
        },
        "outputId": "8a979fff-6fc6-4afc-be73-cc0abe72803f"
      },
      "source": [
        "s1.productExceptSelf(input)"
      ],
      "execution_count": 26,
      "outputs": [
        {
          "output_type": "stream",
          "text": [
            " ---- pre\n",
            "range(0, 0)\n",
            "[]\n",
            " ---- post\n",
            "range(1, 4)\n",
            "[1, 2, 3]\n",
            "\n",
            "\n",
            " ---- pre\n",
            "range(0, 1)\n",
            "[0]\n",
            " ---- post\n",
            "range(2, 4)\n",
            "[2, 3]\n",
            "\n",
            "\n",
            " ---- pre\n",
            "range(0, 2)\n",
            "[0, 1]\n",
            " ---- post\n",
            "range(3, 4)\n",
            "[3]\n",
            "\n",
            "\n",
            " ---- pre\n",
            "range(0, 3)\n",
            "[0, 1, 2]\n",
            " ---- post\n",
            "range(4, 4)\n",
            "[]\n",
            "\n",
            "\n"
          ],
          "name": "stdout"
        }
      ]
    },
    {
      "cell_type": "code",
      "metadata": {
        "id": "Ab6hoRk6YSNl",
        "colab_type": "code",
        "colab": {}
      },
      "source": [
        "class Solution:\n",
        "    def productExceptSelf(self, nums) -> int:\n",
        "      output_list = []\n",
        "      input_len = len(nums)\n",
        "      for i in range(input_len):\n",
        "        output_list = list(range(0,i)) + list(range(i+1,input_len))\n",
        "        print(output_list)"
      ],
      "execution_count": 0,
      "outputs": []
    },
    {
      "cell_type": "code",
      "metadata": {
        "id": "_QgN3QyWYzjk",
        "colab_type": "code",
        "colab": {}
      },
      "source": [
        "s3 = Solution()"
      ],
      "execution_count": 0,
      "outputs": []
    },
    {
      "cell_type": "code",
      "metadata": {
        "id": "vP65wl-WY1US",
        "colab_type": "code",
        "colab": {
          "base_uri": "https://localhost:8080/",
          "height": 87
        },
        "outputId": "16b9f085-85b5-4750-ce64-f1deaf822244"
      },
      "source": [
        "s3.productExceptSelf(input)"
      ],
      "execution_count": 29,
      "outputs": [
        {
          "output_type": "stream",
          "text": [
            "[1, 2, 3]\n",
            "[0, 2, 3]\n",
            "[0, 1, 3]\n",
            "[0, 1, 2]\n"
          ],
          "name": "stdout"
        }
      ]
    },
    {
      "cell_type": "code",
      "metadata": {
        "id": "KN89wkDVY2oL",
        "colab_type": "code",
        "colab": {}
      },
      "source": [
        ""
      ],
      "execution_count": 0,
      "outputs": []
    }
  ]
}