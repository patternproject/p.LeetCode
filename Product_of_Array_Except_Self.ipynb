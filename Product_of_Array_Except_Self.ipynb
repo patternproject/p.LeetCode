{
  "nbformat": 4,
  "nbformat_minor": 0,
  "metadata": {
    "colab": {
      "name": "Product of Array Except Self.ipynb",
      "provenance": [],
      "authorship_tag": "ABX9TyOk7U7hIk3f9Led1lYG5dAt",
      "include_colab_link": true
    },
    "kernelspec": {
      "name": "python3",
      "display_name": "Python 3"
    }
  },
  "cells": [
    {
      "cell_type": "markdown",
      "metadata": {
        "id": "view-in-github",
        "colab_type": "text"
      },
      "source": [
        "<a href=\"https://colab.research.google.com/github/patternproject/p.LeetCode/blob/master/Product_of_Array_Except_Self.ipynb\" target=\"_parent\"><img src=\"https://colab.research.google.com/assets/colab-badge.svg\" alt=\"Open In Colab\"/></a>"
      ]
    },
    {
      "cell_type": "markdown",
      "metadata": {
        "id": "GGI6Ogl6URM0",
        "colab_type": "text"
      },
      "source": [
        "# Leet Code"
      ]
    },
    {
      "cell_type": "markdown",
      "metadata": {
        "id": "uVIsM9VYUTgA",
        "colab_type": "text"
      },
      "source": [
        "## Product of Array Except Self\n",
        "\n",
        "Given an array nums of n integers where n > 1,  return an array output such that output[i] is equal to the product of all the elements of nums except nums[i]."
      ]
    },
    {
      "cell_type": "markdown",
      "metadata": {
        "id": "4rSC-38-UW1l",
        "colab_type": "text"
      },
      "source": [
        "Example:\n",
        "\n",
        "Input:  [1,2,3,4]\n",
        "Output: [24,12,8,6]"
      ]
    },
    {
      "cell_type": "markdown",
      "metadata": {
        "id": "nr1N6nzcUbHU",
        "colab_type": "text"
      },
      "source": [
        "Constraint: It's guaranteed that the product of the elements of any prefix or suffix of the array (including the whole array) fits in a 32 bit integer.\n",
        "\n",
        "Note: Please solve it without division and in O(n).\n",
        "\n",
        "Follow up:\n",
        "Could you solve it with constant space complexity? (The output array does not count as extra space for the purpose of space complexity analysis.)"
      ]
    },
    {
      "cell_type": "code",
      "metadata": {
        "id": "amk2wtu4Ua0p",
        "colab_type": "code",
        "colab": {}
      },
      "source": [
        "# Test Vector\n",
        "input = [1,2,3,4]"
      ],
      "execution_count": 0,
      "outputs": []
    },
    {
      "cell_type": "code",
      "metadata": {
        "id": "xtEE03xQUSbk",
        "colab_type": "code",
        "colab": {
          "base_uri": "https://localhost:8080/",
          "height": 34
        },
        "outputId": "b2412c94-0bc2-4556-db54-7702a7f46097"
      },
      "source": [
        "'''\n",
        "class Solution:\n",
        "    def productExceptSelf(self, nums: List[int]) -> List[int]:\n",
        "      pass\n",
        "'''"
      ],
      "execution_count": 3,
      "outputs": [
        {
          "output_type": "execute_result",
          "data": {
            "text/plain": [
              "'\\nclass Solution:\\n    def productExceptSelf(self, nums: List[int]) -> List[int]:\\n      pass\\n'"
            ]
          },
          "metadata": {
            "tags": []
          },
          "execution_count": 3
        }
      ]
    },
    {
      "cell_type": "markdown",
      "metadata": {
        "id": "19evmIjTX9L3",
        "colab_type": "text"
      },
      "source": [
        "### splitting the list but not missing the index element"
      ]
    },
    {
      "cell_type": "code",
      "metadata": {
        "id": "279Z9D0kVtdC",
        "colab_type": "code",
        "colab": {}
      },
      "source": [
        "class Solution:\n",
        "    def productExceptSelf(self, nums) -> int:\n",
        "      output_list = []\n",
        "      input_len = len(nums)\n",
        "      for i in range(input_len):\n",
        "        pre = list(range(0,i))\n",
        "        print(f' ---- pre')\n",
        "        print(f'{range(0,i)}')\n",
        "        print(f'{pre}')\n",
        "        post = list(range(i,input_len))\n",
        "        print(f' ---- post')\n",
        "        print(f'{range(i,input_len)}')\n",
        "        print(f'{post}')\n",
        "        print(f'\\n')\n",
        "\n",
        "        #print(f'{nums[range(0:i)]} {}')\n",
        "      #print(nums)"
      ],
      "execution_count": 0,
      "outputs": []
    },
    {
      "cell_type": "code",
      "metadata": {
        "id": "WwTLxeE3V1IC",
        "colab_type": "code",
        "colab": {}
      },
      "source": [
        "s = Solution()"
      ],
      "execution_count": 0,
      "outputs": []
    },
    {
      "cell_type": "code",
      "metadata": {
        "id": "u5ko1-LHWyNk",
        "colab_type": "code",
        "colab": {
          "base_uri": "https://localhost:8080/",
          "height": 585
        },
        "outputId": "4f629d50-8491-4695-9dba-be1ae1fa6661"
      },
      "source": [
        "s.productExceptSelf(input)"
      ],
      "execution_count": 22,
      "outputs": [
        {
          "output_type": "stream",
          "text": [
            " ---- pre\n",
            "range(0, 0)\n",
            "[]\n",
            " ---- post\n",
            "range(0, 4)\n",
            "[0, 1, 2, 3]\n",
            "\n",
            "\n",
            " ---- pre\n",
            "range(0, 1)\n",
            "[0]\n",
            " ---- post\n",
            "range(1, 4)\n",
            "[1, 2, 3]\n",
            "\n",
            "\n",
            " ---- pre\n",
            "range(0, 2)\n",
            "[0, 1]\n",
            " ---- post\n",
            "range(2, 4)\n",
            "[2, 3]\n",
            "\n",
            "\n",
            " ---- pre\n",
            "range(0, 3)\n",
            "[0, 1, 2]\n",
            " ---- post\n",
            "range(3, 4)\n",
            "[3]\n",
            "\n",
            "\n"
          ],
          "name": "stdout"
        }
      ]
    },
    {
      "cell_type": "markdown",
      "metadata": {
        "id": "3atvVlHJYEBB",
        "colab_type": "text"
      },
      "source": [
        "### splitting the list AND missing the index element"
      ]
    },
    {
      "cell_type": "code",
      "metadata": {
        "id": "y13bAD5oWzzT",
        "colab_type": "code",
        "colab": {}
      },
      "source": [
        "class Solution:\n",
        "    def productExceptSelf(self, nums) -> int:\n",
        "      output_list = []\n",
        "      input_len = len(nums)\n",
        "      for i in range(input_len):\n",
        "        pre = list(range(1,i+1))\n",
        "        print(f' ---- pre')\n",
        "        print(f'{range(1,i+1)}')\n",
        "        print(f'{pre}')\n",
        "        post = list(range(i+2,input_len+1))\n",
        "        print(f' ---- post')\n",
        "        print(f'{range(i+1,input_len+1)}')\n",
        "        print(f'{post}')\n",
        "        print(f'\\n')"
      ],
      "execution_count": 0,
      "outputs": []
    },
    {
      "cell_type": "code",
      "metadata": {
        "id": "rXBpTk4UYOfh",
        "colab_type": "code",
        "colab": {}
      },
      "source": [
        "s1 = Solution()"
      ],
      "execution_count": 0,
      "outputs": []
    },
    {
      "cell_type": "code",
      "metadata": {
        "id": "S6U0cEm7YQpi",
        "colab_type": "code",
        "colab": {
          "base_uri": "https://localhost:8080/",
          "height": 585
        },
        "outputId": "29addd57-4792-493f-85f3-4c0b85999e72"
      },
      "source": [
        "s1.productExceptSelf(input)"
      ],
      "execution_count": 85,
      "outputs": [
        {
          "output_type": "stream",
          "text": [
            " ---- pre\n",
            "range(1, 1)\n",
            "[]\n",
            " ---- post\n",
            "range(1, 5)\n",
            "[2, 3, 4]\n",
            "\n",
            "\n",
            " ---- pre\n",
            "range(1, 2)\n",
            "[1]\n",
            " ---- post\n",
            "range(2, 5)\n",
            "[3, 4]\n",
            "\n",
            "\n",
            " ---- pre\n",
            "range(1, 3)\n",
            "[1, 2]\n",
            " ---- post\n",
            "range(3, 5)\n",
            "[4]\n",
            "\n",
            "\n",
            " ---- pre\n",
            "range(1, 4)\n",
            "[1, 2, 3]\n",
            " ---- post\n",
            "range(4, 5)\n",
            "[]\n",
            "\n",
            "\n"
          ],
          "name": "stdout"
        }
      ]
    },
    {
      "cell_type": "code",
      "metadata": {
        "id": "Ab6hoRk6YSNl",
        "colab_type": "code",
        "colab": {}
      },
      "source": [
        "class Solution:\n",
        "    def productExceptSelf(self, nums) -> int:\n",
        "      output_list = []\n",
        "      input_len = len(nums)\n",
        "      for i in range(input_len):\n",
        "        output_list = list(range(0,i)) + list(range(i+1,input_len))\n",
        "        print(output_list)"
      ],
      "execution_count": 0,
      "outputs": []
    },
    {
      "cell_type": "code",
      "metadata": {
        "id": "_QgN3QyWYzjk",
        "colab_type": "code",
        "colab": {}
      },
      "source": [
        "s3 = Solution()"
      ],
      "execution_count": 0,
      "outputs": []
    },
    {
      "cell_type": "code",
      "metadata": {
        "id": "vP65wl-WY1US",
        "colab_type": "code",
        "colab": {
          "base_uri": "https://localhost:8080/",
          "height": 87
        },
        "outputId": "16b9f085-85b5-4750-ce64-f1deaf822244"
      },
      "source": [
        "s3.productExceptSelf(input)"
      ],
      "execution_count": 29,
      "outputs": [
        {
          "output_type": "stream",
          "text": [
            "[1, 2, 3]\n",
            "[0, 2, 3]\n",
            "[0, 1, 3]\n",
            "[0, 1, 2]\n"
          ],
          "name": "stdout"
        }
      ]
    },
    {
      "cell_type": "code",
      "metadata": {
        "id": "l91WWU2ycsE5",
        "colab_type": "code",
        "colab": {}
      },
      "source": [
        "#from functools import reduce\n",
        "import numpy as np"
      ],
      "execution_count": 0,
      "outputs": []
    },
    {
      "cell_type": "code",
      "metadata": {
        "id": "0NV2lYF5zMAn",
        "colab_type": "code",
        "colab": {
          "base_uri": "https://localhost:8080/",
          "height": 34
        },
        "outputId": "53e538cd-2e60-44bd-952a-99335490b45b"
      },
      "source": [
        "np.prod([1,2,3])"
      ],
      "execution_count": 46,
      "outputs": [
        {
          "output_type": "execute_result",
          "data": {
            "text/plain": [
              "6"
            ]
          },
          "metadata": {
            "tags": []
          },
          "execution_count": 46
        }
      ]
    },
    {
      "cell_type": "code",
      "metadata": {
        "id": "IpXpvV9RzbGT",
        "colab_type": "code",
        "colab": {
          "base_uri": "https://localhost:8080/",
          "height": 34
        },
        "outputId": "32c6ea9c-d325-464f-edea-275fbdd1d7a9"
      },
      "source": [
        "type((list(range(1,2))+list(range(3,4))))"
      ],
      "execution_count": 52,
      "outputs": [
        {
          "output_type": "execute_result",
          "data": {
            "text/plain": [
              "list"
            ]
          },
          "metadata": {
            "tags": []
          },
          "execution_count": 52
        }
      ]
    },
    {
      "cell_type": "code",
      "metadata": {
        "id": "Ahc-j3pvzqow",
        "colab_type": "code",
        "colab": {}
      },
      "source": [
        "ab = (list(range(1,2))+list(range(3,4)))"
      ],
      "execution_count": 0,
      "outputs": []
    },
    {
      "cell_type": "code",
      "metadata": {
        "id": "eX2rMZ2Lzvdz",
        "colab_type": "code",
        "colab": {
          "base_uri": "https://localhost:8080/",
          "height": 34
        },
        "outputId": "1d3d2225-fc8e-4516-bc6a-2c3036585c22"
      },
      "source": [
        "np.prod(ab)"
      ],
      "execution_count": 54,
      "outputs": [
        {
          "output_type": "execute_result",
          "data": {
            "text/plain": [
              "3"
            ]
          },
          "metadata": {
            "tags": []
          },
          "execution_count": 54
        }
      ]
    },
    {
      "cell_type": "code",
      "metadata": {
        "id": "KN89wkDVY2oL",
        "colab_type": "code",
        "colab": {}
      },
      "source": [
        "class Solution:\n",
        "    def productExceptSelf(self, nums) -> int:\n",
        "      output_list = []\n",
        "      input_len = len(nums)\n",
        "      for i in range(input_len):\n",
        "        temp = (list(range(1,i+1)) + list(range(i+2,input_len+1)))\n",
        "        #reduce(lambda x, y: x*y, temp)\n",
        "        print(temp)\n",
        "        output_list.append(np.prod(temp))\n",
        "        print(output_list)"
      ],
      "execution_count": 0,
      "outputs": []
    },
    {
      "cell_type": "code",
      "metadata": {
        "id": "DM0KX4R9ZU5k",
        "colab_type": "code",
        "colab": {}
      },
      "source": [
        "s4 = Solution()"
      ],
      "execution_count": 0,
      "outputs": []
    },
    {
      "cell_type": "code",
      "metadata": {
        "id": "Y0yL1rp9Zaft",
        "colab_type": "code",
        "colab": {
          "base_uri": "https://localhost:8080/",
          "height": 158
        },
        "outputId": "9e8d7e26-4133-4e92-842c-efb55fdac20f"
      },
      "source": [
        "s4.productExceptSelf([1,2,3,4])"
      ],
      "execution_count": 88,
      "outputs": [
        {
          "output_type": "stream",
          "text": [
            "[2, 3, 4]\n",
            "[24]\n",
            "[1, 3, 4]\n",
            "[24, 12]\n",
            "[1, 2, 4]\n",
            "[24, 12, 8]\n",
            "[1, 2, 3]\n",
            "[24, 12, 8, 6]\n"
          ],
          "name": "stdout"
        }
      ]
    },
    {
      "cell_type": "code",
      "metadata": {
        "id": "UjE9AD3L0H3G",
        "colab_type": "code",
        "colab": {
          "base_uri": "https://localhost:8080/",
          "height": 158
        },
        "outputId": "158399f6-2650-4373-fc37-c80aea0a3f2e"
      },
      "source": [
        "s4.productExceptSelf([1,2,3,5])"
      ],
      "execution_count": 89,
      "outputs": [
        {
          "output_type": "stream",
          "text": [
            "[2, 3, 4]\n",
            "[24]\n",
            "[1, 3, 4]\n",
            "[24, 12]\n",
            "[1, 2, 4]\n",
            "[24, 12, 8]\n",
            "[1, 2, 3]\n",
            "[24, 12, 8, 6]\n"
          ],
          "name": "stdout"
        }
      ]
    },
    {
      "cell_type": "code",
      "metadata": {
        "id": "xIv5mwc_24e9",
        "colab_type": "code",
        "colab": {}
      },
      "source": [
        "class Solution:\n",
        "    def productExceptSelf(self, nums) -> int:\n",
        "      print(nums)\n",
        "      output_list = []\n",
        "      input_len = len(nums)\n",
        "      for i in range(input_len):\n",
        "        temp = (list(range(1,i+1)) + list(range(i+2,input_len+1)))\n",
        "        #temp2 = list(nums[i]) + list(nums[i])\n",
        "        output_list.append(nums[i])\n",
        "\n",
        "        print(output_list)\n",
        "        #output_list.append(np.prod(temp))\n",
        "        #print(output_list)"
      ],
      "execution_count": 0,
      "outputs": []
    },
    {
      "cell_type": "code",
      "metadata": {
        "id": "pBJywrpf3-UR",
        "colab_type": "code",
        "colab": {}
      },
      "source": [
        "s5 = Solution()"
      ],
      "execution_count": 0,
      "outputs": []
    },
    {
      "cell_type": "code",
      "metadata": {
        "id": "pdO9943Z4AR3",
        "colab_type": "code",
        "colab": {
          "base_uri": "https://localhost:8080/",
          "height": 87
        },
        "outputId": "01e41b72-c2a0-4f27-ed41-535f3a766e9d"
      },
      "source": [
        "s5.productExceptSelf([1,2,5])"
      ],
      "execution_count": 160,
      "outputs": [
        {
          "output_type": "stream",
          "text": [
            "[1, 2, 5]\n",
            "[1]\n",
            "[1, 2]\n",
            "[1, 2, 5]\n"
          ],
          "name": "stdout"
        }
      ]
    },
    {
      "cell_type": "code",
      "metadata": {
        "id": "vFDAXl6O4CQq",
        "colab_type": "code",
        "colab": {
          "base_uri": "https://localhost:8080/",
          "height": 34
        },
        "outputId": "02722265-65b1-400f-99dd-d6f7c45282ed"
      },
      "source": [
        "list(input[1:]) + list(input[2:])"
      ],
      "execution_count": 143,
      "outputs": [
        {
          "output_type": "execute_result",
          "data": {
            "text/plain": [
              "[2, 3, 4, 3, 4]"
            ]
          },
          "metadata": {
            "tags": []
          },
          "execution_count": 143
        }
      ]
    },
    {
      "cell_type": "code",
      "metadata": {
        "id": "xc4ugn_hD4IL",
        "colab_type": "code",
        "colab": {}
      },
      "source": [
        "abc = list(input[1:]) + list(input[2:])"
      ],
      "execution_count": 0,
      "outputs": []
    },
    {
      "cell_type": "code",
      "metadata": {
        "id": "WATUjjvtEDFe",
        "colab_type": "code",
        "colab": {
          "base_uri": "https://localhost:8080/",
          "height": 34
        },
        "outputId": "9d400774-44c0-4ead-ac90-b4bcb8487374"
      },
      "source": [
        "abc"
      ],
      "execution_count": 129,
      "outputs": [
        {
          "output_type": "execute_result",
          "data": {
            "text/plain": [
              "[2, 3, 4, 3, 4]"
            ]
          },
          "metadata": {
            "tags": []
          },
          "execution_count": 129
        }
      ]
    },
    {
      "cell_type": "code",
      "metadata": {
        "id": "CC9kuR59EDtm",
        "colab_type": "code",
        "colab": {}
      },
      "source": [
        "class Solution:\n",
        "    def productExceptSelf(self, nums) -> int:\n",
        "      #print(nums)\n",
        "      output_list = []\n",
        "      input_len = len(nums)\n",
        "      for i in range(input_len):\n",
        "        output_list.append(nums[i+1:])\n",
        "        print(output_list)        "
      ],
      "execution_count": 0,
      "outputs": []
    },
    {
      "cell_type": "code",
      "metadata": {
        "id": "Z8ymQ4UFGwc0",
        "colab_type": "code",
        "colab": {}
      },
      "source": [
        "s6 = Solution()"
      ],
      "execution_count": 0,
      "outputs": []
    },
    {
      "cell_type": "code",
      "metadata": {
        "id": "Bi2CW0a7G0ba",
        "colab_type": "code",
        "colab": {
          "base_uri": "https://localhost:8080/",
          "height": 70
        },
        "outputId": "959af779-3d64-4e80-d2b7-ee3c49a136c7"
      },
      "source": [
        "s6.productExceptSelf([1,2,5])"
      ],
      "execution_count": 169,
      "outputs": [
        {
          "output_type": "stream",
          "text": [
            "[[2, 5]]\n",
            "[[2, 5], [5]]\n",
            "[[2, 5], [5], []]\n"
          ],
          "name": "stdout"
        }
      ]
    },
    {
      "cell_type": "code",
      "metadata": {
        "id": "X1pr9ITlG2wg",
        "colab_type": "code",
        "colab": {}
      },
      "source": [
        "class Solution:\n",
        "    def productExceptSelf(self, nums) -> int:\n",
        "      #print(nums)\n",
        "      output_list = []\n",
        "      input_len = len(nums)\n",
        "      for i in range(input_len):\n",
        "        output_list.append(nums[1:i+1])\n",
        "        output_list.append(nums[i+2:input_len])\n",
        "        print(output_list)        "
      ],
      "execution_count": 0,
      "outputs": []
    },
    {
      "cell_type": "code",
      "metadata": {
        "id": "J6CMbBKBHnTy",
        "colab_type": "code",
        "colab": {}
      },
      "source": [
        "s7 = Solution()"
      ],
      "execution_count": 0,
      "outputs": []
    },
    {
      "cell_type": "code",
      "metadata": {
        "id": "2z9b0kLvHowZ",
        "colab_type": "code",
        "colab": {
          "base_uri": "https://localhost:8080/",
          "height": 70
        },
        "outputId": "b379dd6a-0427-42c8-c12a-f54db1a9b397"
      },
      "source": [
        "s7.productExceptSelf([1,2,5])"
      ],
      "execution_count": 177,
      "outputs": [
        {
          "output_type": "stream",
          "text": [
            "[[], [5]]\n",
            "[[], [5], [2], []]\n",
            "[[], [5], [2], [], [2, 5], []]\n"
          ],
          "name": "stdout"
        }
      ]
    },
    {
      "cell_type": "code",
      "metadata": {
        "id": "ROE6oU7OJVwn",
        "colab_type": "code",
        "colab": {
          "base_uri": "https://localhost:8080/",
          "height": 34
        },
        "outputId": "db2d0e0b-c8bc-4a8a-f7de-0d24782b946a"
      },
      "source": [
        "len([1,2,5])"
      ],
      "execution_count": 185,
      "outputs": [
        {
          "output_type": "execute_result",
          "data": {
            "text/plain": [
              "3"
            ]
          },
          "metadata": {
            "tags": []
          },
          "execution_count": 185
        }
      ]
    },
    {
      "cell_type": "code",
      "metadata": {
        "id": "NOjh09xoJZ9V",
        "colab_type": "code",
        "colab": {
          "base_uri": "https://localhost:8080/",
          "height": 34
        },
        "outputId": "26a597e3-f9ba-4c04-871a-9d1310d14957"
      },
      "source": [
        "list(range(3))"
      ],
      "execution_count": 187,
      "outputs": [
        {
          "output_type": "execute_result",
          "data": {
            "text/plain": [
              "[0, 1, 2]"
            ]
          },
          "metadata": {
            "tags": []
          },
          "execution_count": 187
        }
      ]
    },
    {
      "cell_type": "code",
      "metadata": {
        "id": "62ua4whuHreu",
        "colab_type": "code",
        "colab": {}
      },
      "source": [
        "class Solution:\n",
        "    def productExceptSelf(self, nums) -> int:\n",
        "      #print(nums)\n",
        "      output_list = []\n",
        "      input_len = len(nums)\n",
        "      for i in range(input_len):\n",
        "        temp = []\n",
        "        #print(nums[i+1:input_len])\n",
        "        #print(nums[0:i])\n",
        "        temp.extend(nums[0:i])\n",
        "        temp.extend(nums[i+1:input_len])\n",
        "        print(temp)\n",
        "        print(np.prod(temp))\n",
        "        output_list.append(np.prod(temp))\n",
        "        print(output_list)\n"
      ],
      "execution_count": 0,
      "outputs": []
    },
    {
      "cell_type": "code",
      "metadata": {
        "id": "AckAmE2AI0Ju",
        "colab_type": "code",
        "colab": {}
      },
      "source": [
        "s8 = Solution()"
      ],
      "execution_count": 0,
      "outputs": []
    },
    {
      "cell_type": "code",
      "metadata": {
        "id": "do_GTtOiI3Ad",
        "colab_type": "code",
        "colab": {
          "base_uri": "https://localhost:8080/",
          "height": 176
        },
        "outputId": "408b39be-4274-493c-de12-aebbf35a86e5"
      },
      "source": [
        "s8.productExceptSelf([1,2,5])"
      ],
      "execution_count": 227,
      "outputs": [
        {
          "output_type": "stream",
          "text": [
            "[2, 5]\n",
            "10\n",
            "[10]\n",
            "[1, 5]\n",
            "5\n",
            "[10, 5]\n",
            "[1, 2]\n",
            "2\n",
            "[10, 5, 2]\n"
          ],
          "name": "stdout"
        }
      ]
    },
    {
      "cell_type": "code",
      "metadata": {
        "id": "GI8bv1jSI4oq",
        "colab_type": "code",
        "colab": {}
      },
      "source": [
        "class Solution:\n",
        "    def productExceptSelf(self, nums) -> int:\n",
        "      #print(nums)\n",
        "      output_list = []\n",
        "      input_len = len(nums)\n",
        "      for i in range(input_len):\n",
        "        temp = []\n",
        "        temp.extend(nums[0:i])\n",
        "        temp.extend(nums[i+1:input_len])\n",
        "        output_list.append(np.prod(temp))\n",
        "        print(output_list)\n"
      ],
      "execution_count": 0,
      "outputs": []
    },
    {
      "cell_type": "code",
      "metadata": {
        "id": "mPBGqCrfOJcr",
        "colab_type": "code",
        "colab": {}
      },
      "source": [
        "s9 = Solution()\n"
      ],
      "execution_count": 0,
      "outputs": []
    },
    {
      "cell_type": "code",
      "metadata": {
        "id": "kpx01D_hOKuc",
        "colab_type": "code",
        "colab": {
          "base_uri": "https://localhost:8080/",
          "height": 70
        },
        "outputId": "a156ac7c-ed84-454f-f1c0-21f46aa9922f"
      },
      "source": [
        "s9.productExceptSelf([1,2,5])"
      ],
      "execution_count": 231,
      "outputs": [
        {
          "output_type": "stream",
          "text": [
            "[10]\n",
            "[10, 5]\n",
            "[10, 5, 2]\n"
          ],
          "name": "stdout"
        }
      ]
    },
    {
      "cell_type": "markdown",
      "metadata": {
        "id": "-eMCpZ41Pj8U",
        "colab_type": "text"
      },
      "source": [
        "Above solution is using two temp arrays - one for forming the part of array required for product calculation, other for holding the product for this iteration\n",
        "\n",
        "Question only allows one temp array. We need a better solution"
      ]
    },
    {
      "cell_type": "code",
      "metadata": {
        "id": "4k9LAi67ONlT",
        "colab_type": "code",
        "colab": {}
      },
      "source": [
        ""
      ],
      "execution_count": 0,
      "outputs": []
    }
  ]
}