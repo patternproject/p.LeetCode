{
  "nbformat": 4,
  "nbformat_minor": 0,
  "metadata": {
    "colab": {
      "name": "Last Stone Weight.ipynb",
      "provenance": [],
      "authorship_tag": "ABX9TyNJm8y1hqZsfbsmNBHBaCYl",
      "include_colab_link": true
    },
    "kernelspec": {
      "name": "python3",
      "display_name": "Python 3"
    }
  },
  "cells": [
    {
      "cell_type": "markdown",
      "metadata": {
        "id": "view-in-github",
        "colab_type": "text"
      },
      "source": [
        "<a href=\"https://colab.research.google.com/github/patternproject/p.LeetCode/blob/master/Last_Stone_Weight.ipynb\" target=\"_parent\"><img src=\"https://colab.research.google.com/assets/colab-badge.svg\" alt=\"Open In Colab\"/></a>"
      ]
    },
    {
      "cell_type": "markdown",
      "metadata": {
        "id": "Z0rZY9JOh93y",
        "colab_type": "text"
      },
      "source": [
        "# Leet Code"
      ]
    },
    {
      "cell_type": "markdown",
      "metadata": {
        "id": "ch0RhSQ-iB-T",
        "colab_type": "text"
      },
      "source": [
        "## Last Stone Weight"
      ]
    },
    {
      "cell_type": "markdown",
      "metadata": {
        "id": "vd-ySpZ7iGF8",
        "colab_type": "text"
      },
      "source": [
        "We have a collection of stones, each stone has a positive integer weight.\n",
        "\n",
        "Each turn, we choose the two heaviest stones and smash them together.  Suppose the stones have weights x and y with x <= y.  The result of this smash is:\n",
        "\n",
        "* If x == y, both stones are totally destroyed;\n",
        "* If x != y, the stone of weight x is totally destroyed, and the stone of weight y has new weight y-x.\n",
        "\n",
        "\n",
        "At the end, there is at most 1 stone left.  Return the weight of this stone (or 0 if there are no stones left.)"
      ]
    },
    {
      "cell_type": "code",
      "metadata": {
        "id": "qQoEiZOIp33J",
        "colab_type": "code",
        "colab": {}
      },
      "source": [
        "stones = [2,7,4,1,8,1]"
      ],
      "execution_count": 0,
      "outputs": []
    },
    {
      "cell_type": "code",
      "metadata": {
        "id": "ZJoDHjgWihV3",
        "colab_type": "code",
        "colab": {}
      },
      "source": [
        "class Solution:\n",
        "    def lastStoneWeight(self, stones) -> int:\n",
        "      \n",
        "      len_stones = len(stones)\n",
        "      \n",
        "      for i in range(len_stones):\n",
        "      \n",
        "        if(len(stones) == 1):\n",
        "          return(stones[0]) \n",
        "\n",
        "        elif(len(stones)==0):\n",
        "          return(0)\n",
        "          \n",
        "        else:     \n",
        "          # sort the list, in reverse or descending order\n",
        "          stones = sorted(stones,reverse=True)\n",
        "          \n",
        "          # temp print\n",
        "          print(stones)\n",
        "\n",
        "          # get the two biggest\n",
        "          stone_1,stone_2 = stones[0], stones[1]\n",
        "          \n",
        "          if(stone_1 > stone_2):\n",
        "            # add the remainder of stone1\n",
        "            stones.append(stone_1 - stone_2)\n",
        "          \n",
        "        # remove both from the list (in both cases stone1 == stone2, or greater)\n",
        "        stones.remove(stone_1)\n",
        "        stones.remove(stone_2)\n",
        "        #print(stones)\n",
        "\n",
        "\n",
        "      "
      ],
      "execution_count": 0,
      "outputs": []
    },
    {
      "cell_type": "code",
      "metadata": {
        "id": "OMclpcVEpyl7",
        "colab_type": "code",
        "colab": {}
      },
      "source": [
        "s = Solution()"
      ],
      "execution_count": 0,
      "outputs": []
    },
    {
      "cell_type": "code",
      "metadata": {
        "id": "mm1YlusVp8vf",
        "colab_type": "code",
        "colab": {
          "base_uri": "https://localhost:8080/",
          "height": 105
        },
        "outputId": "7e08e021-3a29-4811-a1f5-5ca0faca63c2"
      },
      "source": [
        "s.lastStoneWeight(stones)"
      ],
      "execution_count": 38,
      "outputs": [
        {
          "output_type": "stream",
          "text": [
            "[8, 7, 4, 2, 1, 1]\n",
            "[4, 2, 1, 1, 1]\n",
            "[2, 1, 1, 1]\n",
            "[1, 1, 1]\n"
          ],
          "name": "stdout"
        },
        {
          "output_type": "execute_result",
          "data": {
            "text/plain": [
              "1"
            ]
          },
          "metadata": {
            "tags": []
          },
          "execution_count": 38
        }
      ]
    },
    {
      "cell_type": "markdown",
      "metadata": {
        "id": "cP9boMhkA8ZY",
        "colab_type": "text"
      },
      "source": [
        "## trying heap based solution"
      ]
    },
    {
      "cell_type": "markdown",
      "metadata": {
        "id": "JyLvr1JSBCIx",
        "colab_type": "text"
      },
      "source": [
        "http://www.programmersought.com/article/35791677291/"
      ]
    },
    {
      "cell_type": "code",
      "metadata": {
        "id": "ib6BmW_eBX9H",
        "colab_type": "code",
        "colab": {}
      },
      "source": [
        "import heapq"
      ],
      "execution_count": 0,
      "outputs": []
    },
    {
      "cell_type": "code",
      "metadata": {
        "id": "hn3eXAn8p_lX",
        "colab_type": "code",
        "colab": {}
      },
      "source": [
        "class Solution(object):\n",
        "    def lastStoneWeight2(self, stones):\n",
        "        \"\"\"\n",
        "        :type stones: List[int]\n",
        "        :rtype: int\n",
        "        \"\"\"\n",
        "        stones = list(map(lambda x : -x, stones))\n",
        "        heapq.heapify(stones)\n",
        "        while len(stones) > 1:\n",
        "            x = heapq.heappop(stones)\n",
        "            if stones:\n",
        "                y = heapq.heappop(stones)\n",
        "                if x != y:\n",
        "                    heapq.heappush(stones, -abs(x - y))\n",
        "        return 0 if not stones else -stones[0]"
      ],
      "execution_count": 0,
      "outputs": []
    },
    {
      "cell_type": "code",
      "metadata": {
        "id": "B-jWdSWVC-Kj",
        "colab_type": "code",
        "colab": {}
      },
      "source": [
        "heapq.heapify([2])"
      ],
      "execution_count": 0,
      "outputs": []
    },
    {
      "cell_type": "code",
      "metadata": {
        "id": "jSzhvH7CDF5D",
        "colab_type": "code",
        "colab": {
          "base_uri": "https://localhost:8080/",
          "height": 34
        },
        "outputId": "bec67a4a-bc8d-4455-ddc4-1abf423be60d"
      },
      "source": [
        "list(map(lambda x : -x, [2,3]))"
      ],
      "execution_count": 48,
      "outputs": [
        {
          "output_type": "execute_result",
          "data": {
            "text/plain": [
              "[-2, -3]"
            ]
          },
          "metadata": {
            "tags": []
          },
          "execution_count": 48
        }
      ]
    },
    {
      "cell_type": "code",
      "metadata": {
        "id": "RUhuaTkBBQuD",
        "colab_type": "code",
        "colab": {}
      },
      "source": [
        "s = Solution()"
      ],
      "execution_count": 0,
      "outputs": []
    },
    {
      "cell_type": "code",
      "metadata": {
        "id": "Ve1RXdOwBSq3",
        "colab_type": "code",
        "colab": {
          "base_uri": "https://localhost:8080/",
          "height": 34
        },
        "outputId": "8170bb91-38ae-47f4-b4fa-559f5cbb1fe1"
      },
      "source": [
        "s.lastStoneWeight2([2,3,4])"
      ],
      "execution_count": 51,
      "outputs": [
        {
          "output_type": "execute_result",
          "data": {
            "text/plain": [
              "1"
            ]
          },
          "metadata": {
            "tags": []
          },
          "execution_count": 51
        }
      ]
    },
    {
      "cell_type": "code",
      "metadata": {
        "id": "oNFBCmU0BVWa",
        "colab_type": "code",
        "colab": {}
      },
      "source": [
        ""
      ],
      "execution_count": 0,
      "outputs": []
    }
  ]
}