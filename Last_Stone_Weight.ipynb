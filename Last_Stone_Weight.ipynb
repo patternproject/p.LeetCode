{
  "nbformat": 4,
  "nbformat_minor": 0,
  "metadata": {
    "colab": {
      "name": "Last Stone Weight.ipynb",
      "provenance": [],
      "authorship_tag": "ABX9TyMdt9aVwhn3V9CssKw2ZxtJ",
      "include_colab_link": true
    },
    "kernelspec": {
      "name": "python3",
      "display_name": "Python 3"
    }
  },
  "cells": [
    {
      "cell_type": "markdown",
      "metadata": {
        "id": "view-in-github",
        "colab_type": "text"
      },
      "source": [
        "<a href=\"https://colab.research.google.com/github/patternproject/p.LeetCode/blob/master/Last_Stone_Weight.ipynb\" target=\"_parent\"><img src=\"https://colab.research.google.com/assets/colab-badge.svg\" alt=\"Open In Colab\"/></a>"
      ]
    },
    {
      "cell_type": "markdown",
      "metadata": {
        "id": "Z0rZY9JOh93y",
        "colab_type": "text"
      },
      "source": [
        "# Leet Code"
      ]
    },
    {
      "cell_type": "markdown",
      "metadata": {
        "id": "ch0RhSQ-iB-T",
        "colab_type": "text"
      },
      "source": [
        "## Last Stone Weight"
      ]
    },
    {
      "cell_type": "markdown",
      "metadata": {
        "id": "vd-ySpZ7iGF8",
        "colab_type": "text"
      },
      "source": [
        "We have a collection of stones, each stone has a positive integer weight.\n",
        "\n",
        "Each turn, we choose the two heaviest stones and smash them together.  Suppose the stones have weights x and y with x <= y.  The result of this smash is:\n",
        "\n",
        "* If x == y, both stones are totally destroyed;\n",
        "* If x != y, the stone of weight x is totally destroyed, and the stone of weight y has new weight y-x.\n",
        "\n",
        "\n",
        "At the end, there is at most 1 stone left.  Return the weight of this stone (or 0 if there are no stones left.)"
      ]
    },
    {
      "cell_type": "code",
      "metadata": {
        "id": "ER6oaWbxhEd5",
        "colab_type": "code",
        "colab": {}
      },
      "source": [
        ""
      ],
      "execution_count": 0,
      "outputs": []
    }
  ]
}