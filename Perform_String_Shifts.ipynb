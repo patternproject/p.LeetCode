{
  "nbformat": 4,
  "nbformat_minor": 0,
  "metadata": {
    "colab": {
      "name": "Perform String Shifts.ipynb",
      "provenance": [],
      "authorship_tag": "ABX9TyMwzO8a4khzpezvhVv8O8HG",
      "include_colab_link": true
    },
    "kernelspec": {
      "name": "python3",
      "display_name": "Python 3"
    }
  },
  "cells": [
    {
      "cell_type": "markdown",
      "metadata": {
        "id": "view-in-github",
        "colab_type": "text"
      },
      "source": [
        "<a href=\"https://colab.research.google.com/github/patternproject/p.LeetCode/blob/master/Perform_String_Shifts.ipynb\" target=\"_parent\"><img src=\"https://colab.research.google.com/assets/colab-badge.svg\" alt=\"Open In Colab\"/></a>"
      ]
    },
    {
      "cell_type": "markdown",
      "metadata": {
        "id": "EyAX75jYPF8j",
        "colab_type": "text"
      },
      "source": [
        "# Leet Code"
      ]
    },
    {
      "cell_type": "markdown",
      "metadata": {
        "id": "N3ewfVk2PHfz",
        "colab_type": "text"
      },
      "source": [
        "## Perform String Shifts\n",
        "\n",
        "You are given a string s containing lowercase English letters, and a matrix shift, where shift[i] = [direction, amount]:\n",
        "\n",
        "direction can be 0 (for left shift) or 1 (for right shift). \n",
        "amount is the amount by which string s is to be shifted.\n",
        "A left shift by 1 means remove the first character of s and append it to the end.\n",
        "Similarly, a right shift by 1 means remove the last character of s and add it to the beginning.\n",
        "Return the final string after all operations."
      ]
    },
    {
      "cell_type": "code",
      "metadata": {
        "id": "tO66kWU9PNEd",
        "colab_type": "code",
        "colab": {}
      },
      "source": [
        "# test data"
      ],
      "execution_count": 0,
      "outputs": []
    },
    {
      "cell_type": "code",
      "metadata": {
        "id": "EMwa5GOfPPJy",
        "colab_type": "code",
        "colab": {}
      },
      "source": [
        "test = \"abc\"\n",
        "shift = [[0,1],[1,2]]"
      ],
      "execution_count": 0,
      "outputs": []
    },
    {
      "cell_type": "markdown",
      "metadata": {
        "id": "hkX2-YDdXn4A",
        "colab_type": "text"
      },
      "source": [
        "### Shifting string LEFT"
      ]
    },
    {
      "cell_type": "code",
      "metadata": {
        "id": "ne7GOUOmQtwo",
        "colab_type": "code",
        "colab": {}
      },
      "source": [
        "d=1"
      ],
      "execution_count": 0,
      "outputs": []
    },
    {
      "cell_type": "code",
      "metadata": {
        "id": "2UmBbmxYT5r1",
        "colab_type": "code",
        "colab": {
          "base_uri": "https://localhost:8080/",
          "height": 34
        },
        "outputId": "20933c49-3d3e-4959-de8c-8eaed6cc26ba"
      },
      "source": [
        "test[d:] + test[0:d]"
      ],
      "execution_count": 23,
      "outputs": [
        {
          "output_type": "execute_result",
          "data": {
            "text/plain": [
              "'bca'"
            ]
          },
          "metadata": {
            "tags": []
          },
          "execution_count": 23
        }
      ]
    },
    {
      "cell_type": "code",
      "metadata": {
        "id": "jc-ZIb0fUDe8",
        "colab_type": "code",
        "colab": {
          "base_uri": "https://localhost:8080/",
          "height": 34
        },
        "outputId": "838a81a1-f9a8-4a53-aff6-4a651d8c89ff"
      },
      "source": [
        "test[len(test)-1] + test[d-1:len(test)-1]"
      ],
      "execution_count": 35,
      "outputs": [
        {
          "output_type": "execute_result",
          "data": {
            "text/plain": [
              "'cab'"
            ]
          },
          "metadata": {
            "tags": []
          },
          "execution_count": 35
        }
      ]
    },
    {
      "cell_type": "code",
      "metadata": {
        "id": "mSUgH4sMVzZv",
        "colab_type": "code",
        "colab": {}
      },
      "source": [
        "test = \"abcd\""
      ],
      "execution_count": 0,
      "outputs": []
    },
    {
      "cell_type": "code",
      "metadata": {
        "id": "qwDq4i8HV3Gj",
        "colab_type": "code",
        "colab": {
          "base_uri": "https://localhost:8080/",
          "height": 34
        },
        "outputId": "d7145f65-e1ee-4c54-e7c5-d4b51020a640"
      },
      "source": [
        "test[d:] + test[0:d]"
      ],
      "execution_count": 37,
      "outputs": [
        {
          "output_type": "execute_result",
          "data": {
            "text/plain": [
              "'bcda'"
            ]
          },
          "metadata": {
            "tags": []
          },
          "execution_count": 37
        }
      ]
    },
    {
      "cell_type": "markdown",
      "metadata": {
        "id": "mcG-_lnoXj83",
        "colab_type": "text"
      },
      "source": [
        "### Shifting string RIGHT"
      ]
    },
    {
      "cell_type": "code",
      "metadata": {
        "id": "eMS8gc8RV5fE",
        "colab_type": "code",
        "colab": {
          "base_uri": "https://localhost:8080/",
          "height": 34
        },
        "outputId": "64df919d-3279-4ecb-b653-57eb75c25a1f"
      },
      "source": [
        "test[len(test)-1] + test[d-1:len(test)-1]"
      ],
      "execution_count": 38,
      "outputs": [
        {
          "output_type": "execute_result",
          "data": {
            "text/plain": [
              "'dabc'"
            ]
          },
          "metadata": {
            "tags": []
          },
          "execution_count": 38
        }
      ]
    },
    {
      "cell_type": "markdown",
      "metadata": {
        "id": "NT7TxBllXpww",
        "colab_type": "text"
      },
      "source": [
        "even simpler way"
      ]
    },
    {
      "cell_type": "code",
      "metadata": {
        "id": "cfs1iZ6VW3Eo",
        "colab_type": "code",
        "colab": {
          "base_uri": "https://localhost:8080/",
          "height": 34
        },
        "outputId": "14715fed-10fc-4db1-efa4-854afb61d830"
      },
      "source": [
        "test[-d:] + test[:-d]"
      ],
      "execution_count": 40,
      "outputs": [
        {
          "output_type": "execute_result",
          "data": {
            "text/plain": [
              "'dabc'"
            ]
          },
          "metadata": {
            "tags": []
          },
          "execution_count": 40
        }
      ]
    },
    {
      "cell_type": "code",
      "metadata": {
        "id": "GbLz3flgXLKM",
        "colab_type": "code",
        "colab": {
          "base_uri": "https://localhost:8080/",
          "height": 34
        },
        "outputId": "b6e95a60-0020-4469-dbe8-98e5712901a9"
      },
      "source": [
        "test[-d:]"
      ],
      "execution_count": 41,
      "outputs": [
        {
          "output_type": "execute_result",
          "data": {
            "text/plain": [
              "'d'"
            ]
          },
          "metadata": {
            "tags": []
          },
          "execution_count": 41
        }
      ]
    },
    {
      "cell_type": "code",
      "metadata": {
        "id": "pEI0fKihXOy7",
        "colab_type": "code",
        "colab": {
          "base_uri": "https://localhost:8080/",
          "height": 34
        },
        "outputId": "12a030b8-be61-449e-9073-114f342175cd"
      },
      "source": [
        "test[-2:]"
      ],
      "execution_count": 43,
      "outputs": [
        {
          "output_type": "execute_result",
          "data": {
            "text/plain": [
              "'cd'"
            ]
          },
          "metadata": {
            "tags": []
          },
          "execution_count": 43
        }
      ]
    },
    {
      "cell_type": "code",
      "metadata": {
        "id": "cNH3Gn1dYJM1",
        "colab_type": "code",
        "colab": {}
      },
      "source": [
        "s = \"abc\""
      ],
      "execution_count": 0,
      "outputs": []
    },
    {
      "cell_type": "code",
      "metadata": {
        "id": "ShIr6vzTPdU6",
        "colab_type": "code",
        "colab": {}
      },
      "source": [
        "class Solution:\n",
        "    #def stringShift(self, s: str, shift: List[List[int]]) -> str:\n",
        "    def stringShift(self, s, shift) -> str:\n",
        "      i_left = 0\n",
        "      i_right = 0\n",
        "      for e in shift:\n",
        "        print(e)\n",
        "        if(e[0]==0):\n",
        "          i_left += e[1]\n",
        "        else:\n",
        "          i_right += e[1]\n",
        "      # make string shift\n",
        "      i_shift = i_left - i_right \n",
        "      print(i_shift)\n",
        "      \n",
        "      # for right shift, the sign will be negative \n",
        "      i_mag = abs(i_shift)\n",
        "\n",
        "      # avoiding shifts bigger than string length\n",
        "      if(i_mag >= len(s)):\n",
        "        i_mag = i_mag % len(s)\n",
        "        print(i_mag)\n",
        "\n",
        "      if(i_shift >0):\n",
        "        # shift left\n",
        "        print(f'shifting left')\n",
        "        return(s[i_mag:] + s[0:i_mag])\n",
        "      elif(i_shift<0):\n",
        "        # shift right \n",
        "        print(f'shifting right')       \n",
        "        return(s[-i_mag:] + s[0:-i_mag])\n",
        "      else:\n",
        "        # shift none\n",
        "        return(s)"
      ],
      "execution_count": 0,
      "outputs": []
    },
    {
      "cell_type": "code",
      "metadata": {
        "id": "QUPCIwW3PuQ6",
        "colab_type": "code",
        "colab": {}
      },
      "source": [
        "p = Solution()"
      ],
      "execution_count": 0,
      "outputs": []
    },
    {
      "cell_type": "code",
      "metadata": {
        "id": "s1lUpNCCPv0i",
        "colab_type": "code",
        "colab": {
          "base_uri": "https://localhost:8080/",
          "height": 265
        },
        "outputId": "a8bf4aef-f758-4e79-8e5c-2b919b0cd62b"
      },
      "source": [
        "p.stringShift(s,shift)"
      ],
      "execution_count": 106,
      "outputs": [
        {
          "output_type": "stream",
          "text": [
            "[1, 4]\n",
            "[0, 7]\n",
            "[0, 8]\n",
            "[0, 7]\n",
            "[0, 6]\n",
            "[1, 3]\n",
            "[0, 1]\n",
            "[1, 7]\n",
            "[0, 5]\n",
            "[0, 6]\n",
            "26\n",
            "2\n",
            "shifting left\n"
          ],
          "name": "stdout"
        },
        {
          "output_type": "execute_result",
          "data": {
            "text/plain": [
              "'cab'"
            ]
          },
          "metadata": {
            "tags": []
          },
          "execution_count": 106
        }
      ]
    },
    {
      "cell_type": "code",
      "metadata": {
        "id": "H-xix4NMaI57",
        "colab_type": "code",
        "colab": {}
      },
      "source": [
        "s = \"xqgwkiqpif\""
      ],
      "execution_count": 0,
      "outputs": []
    },
    {
      "cell_type": "code",
      "metadata": {
        "id": "RwDjdlvJP119",
        "colab_type": "code",
        "colab": {}
      },
      "source": [
        "shift = [[1,4],[0,7],[0,8],[0,7],[0,6],[1,3],[0,1],[1,7],[0,5],[0,6]]"
      ],
      "execution_count": 0,
      "outputs": []
    },
    {
      "cell_type": "code",
      "metadata": {
        "id": "gd3G_HsKaQ6E",
        "colab_type": "code",
        "colab": {
          "base_uri": "https://localhost:8080/",
          "height": 265
        },
        "outputId": "6b6d86e7-7f4a-4089-ba68-524b794a0cf0"
      },
      "source": [
        "p.stringShift(s,shift)"
      ],
      "execution_count": 109,
      "outputs": [
        {
          "output_type": "stream",
          "text": [
            "[1, 4]\n",
            "[0, 7]\n",
            "[0, 8]\n",
            "[0, 7]\n",
            "[0, 6]\n",
            "[1, 3]\n",
            "[0, 1]\n",
            "[1, 7]\n",
            "[0, 5]\n",
            "[0, 6]\n",
            "26\n",
            "6\n",
            "shifting left\n"
          ],
          "name": "stdout"
        },
        {
          "output_type": "execute_result",
          "data": {
            "text/plain": [
              "'qpifxqgwki'"
            ]
          },
          "metadata": {
            "tags": []
          },
          "execution_count": 109
        }
      ]
    },
    {
      "cell_type": "code",
      "metadata": {
        "id": "1E1pRLIzaS9I",
        "colab_type": "code",
        "colab": {
          "base_uri": "https://localhost:8080/",
          "height": 34
        },
        "outputId": "18278d17-5b96-401f-9542-c37437b8b896"
      },
      "source": [
        "s[26:]"
      ],
      "execution_count": 70,
      "outputs": [
        {
          "output_type": "execute_result",
          "data": {
            "text/plain": [
              "''"
            ]
          },
          "metadata": {
            "tags": []
          },
          "execution_count": 70
        }
      ]
    },
    {
      "cell_type": "code",
      "metadata": {
        "id": "oQKxhIfRbgXW",
        "colab_type": "code",
        "colab": {
          "base_uri": "https://localhost:8080/",
          "height": 34
        },
        "outputId": "a32fc951-a830-436d-eb6e-866ea61d8a00"
      },
      "source": [
        "s[0:26]"
      ],
      "execution_count": 71,
      "outputs": [
        {
          "output_type": "execute_result",
          "data": {
            "text/plain": [
              "'xqgwkiqpif'"
            ]
          },
          "metadata": {
            "tags": []
          },
          "execution_count": 71
        }
      ]
    },
    {
      "cell_type": "code",
      "metadata": {
        "id": "iW6Bnwy-bm1S",
        "colab_type": "code",
        "colab": {}
      },
      "source": [
        "s = \"yzeuobhwxatulpruiab\"\n",
        "shift = [[1,15],[0,18],[0,12],[0,7],[0,7],[1,17],[1,15],[0,9],[1,4],[0,19],[1,16],[0,7],[1,4],[1,17],[1,19],[1,10],[1,2],[0,18],[1,15]]"
      ],
      "execution_count": 0,
      "outputs": []
    },
    {
      "cell_type": "code",
      "metadata": {
        "id": "8xtIhJEqcnBh",
        "colab_type": "code",
        "colab": {
          "base_uri": "https://localhost:8080/",
          "height": 425
        },
        "outputId": "f1f406bf-8df4-4c36-8040-a2b1bc282792"
      },
      "source": [
        "p.stringShift(s,shift)"
      ],
      "execution_count": 111,
      "outputs": [
        {
          "output_type": "stream",
          "text": [
            "[1, 15]\n",
            "[0, 18]\n",
            "[0, 12]\n",
            "[0, 7]\n",
            "[0, 7]\n",
            "[1, 17]\n",
            "[1, 15]\n",
            "[0, 9]\n",
            "[1, 4]\n",
            "[0, 19]\n",
            "[1, 16]\n",
            "[0, 7]\n",
            "[1, 4]\n",
            "[1, 17]\n",
            "[1, 19]\n",
            "[1, 10]\n",
            "[1, 2]\n",
            "[0, 18]\n",
            "[1, 15]\n",
            "-37\n",
            "18\n",
            "shifting right\n"
          ],
          "name": "stdout"
        },
        {
          "output_type": "execute_result",
          "data": {
            "text/plain": [
              "'zeuobhwxatulpruiaby'"
            ]
          },
          "metadata": {
            "tags": []
          },
          "execution_count": 111
        }
      ]
    },
    {
      "cell_type": "code",
      "metadata": {
        "id": "QZ7a2nc-cqGJ",
        "colab_type": "code",
        "colab": {}
      },
      "source": [
        "s = \"abc\"\n",
        "shift = [[0,1],[1,2]]"
      ],
      "execution_count": 0,
      "outputs": []
    },
    {
      "cell_type": "code",
      "metadata": {
        "id": "N2DCkLGVdYVs",
        "colab_type": "code",
        "colab": {
          "base_uri": "https://localhost:8080/",
          "height": 87
        },
        "outputId": "17bee7b1-426c-46d4-b9cf-1296dccb65a1"
      },
      "source": [
        "p.stringShift(s,shift)"
      ],
      "execution_count": 86,
      "outputs": [
        {
          "output_type": "stream",
          "text": [
            "[0, 1]\n",
            "[1, 2]\n",
            "-1\n"
          ],
          "name": "stdout"
        },
        {
          "output_type": "execute_result",
          "data": {
            "text/plain": [
              "'bca'"
            ]
          },
          "metadata": {
            "tags": []
          },
          "execution_count": 86
        }
      ]
    },
    {
      "cell_type": "code",
      "metadata": {
        "id": "okgHxRJtdd7s",
        "colab_type": "code",
        "colab": {}
      },
      "source": [
        ""
      ],
      "execution_count": 0,
      "outputs": []
    }
  ]
}