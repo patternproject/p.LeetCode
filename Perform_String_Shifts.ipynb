{
  "nbformat": 4,
  "nbformat_minor": 0,
  "metadata": {
    "colab": {
      "name": "Perform String Shifts.ipynb",
      "provenance": [],
      "authorship_tag": "ABX9TyMbM+AhjDE9fj1xN3T+upFE",
      "include_colab_link": true
    },
    "kernelspec": {
      "name": "python3",
      "display_name": "Python 3"
    }
  },
  "cells": [
    {
      "cell_type": "markdown",
      "metadata": {
        "id": "view-in-github",
        "colab_type": "text"
      },
      "source": [
        "<a href=\"https://colab.research.google.com/github/patternproject/p.LeetCode/blob/master/Perform_String_Shifts.ipynb\" target=\"_parent\"><img src=\"https://colab.research.google.com/assets/colab-badge.svg\" alt=\"Open In Colab\"/></a>"
      ]
    },
    {
      "cell_type": "markdown",
      "metadata": {
        "id": "EyAX75jYPF8j",
        "colab_type": "text"
      },
      "source": [
        "# Leet Code"
      ]
    },
    {
      "cell_type": "markdown",
      "metadata": {
        "id": "N3ewfVk2PHfz",
        "colab_type": "text"
      },
      "source": [
        "## Perform String Shifts\n",
        "\n",
        "You are given a string s containing lowercase English letters, and a matrix shift, where shift[i] = [direction, amount]:\n",
        "\n",
        "direction can be 0 (for left shift) or 1 (for right shift). \n",
        "amount is the amount by which string s is to be shifted.\n",
        "A left shift by 1 means remove the first character of s and append it to the end.\n",
        "Similarly, a right shift by 1 means remove the last character of s and add it to the beginning.\n",
        "Return the final string after all operations."
      ]
    },
    {
      "cell_type": "code",
      "metadata": {
        "id": "tO66kWU9PNEd",
        "colab_type": "code",
        "colab": {}
      },
      "source": [
        "# test data"
      ],
      "execution_count": 0,
      "outputs": []
    },
    {
      "cell_type": "code",
      "metadata": {
        "id": "EMwa5GOfPPJy",
        "colab_type": "code",
        "colab": {}
      },
      "source": [
        ""
      ],
      "execution_count": 0,
      "outputs": []
    }
  ]
}