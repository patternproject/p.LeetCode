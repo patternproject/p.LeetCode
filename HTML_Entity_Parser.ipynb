{
  "nbformat": 4,
  "nbformat_minor": 0,
  "metadata": {
    "colab": {
      "name": "HTML Entity Parser.ipynb",
      "provenance": [],
      "authorship_tag": "ABX9TyOru6YSMTNpFKqLhRr+N1BJ",
      "include_colab_link": true
    },
    "kernelspec": {
      "name": "python3",
      "display_name": "Python 3"
    }
  },
  "cells": [
    {
      "cell_type": "markdown",
      "metadata": {
        "id": "view-in-github",
        "colab_type": "text"
      },
      "source": [
        "<a href=\"https://colab.research.google.com/github/patternproject/p.LeetCode/blob/master/HTML_Entity_Parser.ipynb\" target=\"_parent\"><img src=\"https://colab.research.google.com/assets/colab-badge.svg\" alt=\"Open In Colab\"/></a>"
      ]
    },
    {
      "cell_type": "markdown",
      "metadata": {
        "id": "DXhPyL1sdLKG",
        "colab_type": "text"
      },
      "source": [
        "# Leet Code"
      ]
    },
    {
      "cell_type": "markdown",
      "metadata": {
        "id": "Gnh_iZoNdM1i",
        "colab_type": "text"
      },
      "source": [
        "# 5382. HTML Entity Parser"
      ]
    },
    {
      "cell_type": "markdown",
      "metadata": {
        "id": "XpwQPryVdPmw",
        "colab_type": "text"
      },
      "source": [
        "HTML entity parser is the parser that takes HTML code as input and replace all the entities of the special characters by the characters itself.\n",
        "\n",
        "The special characters and their entities for HTML are:\n",
        "\n",
        "Quotation Mark: the entity is &quot; and symbol character is \".\n",
        "Single Quote Mark: the entity is &apos; and symbol character is '.\n",
        "Ampersand: the entity is &amp; and symbol character is &.\n",
        "Greater Than Sign: the entity is &gt; and symbol character is >.\n",
        "Less Than Sign: the entity is &lt; and symbol character is <.\n",
        "Slash: the entity is &frasl; and symbol character is /.\n",
        "Given the input text string to the HTML parser, you have to implement the entity parser.\n",
        "\n",
        "Return the text after replacing the entities by the special characters."
      ]
    },
    {
      "cell_type": "code",
      "metadata": {
        "id": "hA4pPpHSdMPA",
        "colab_type": "code",
        "colab": {}
      },
      "source": [
        ""
      ],
      "execution_count": 0,
      "outputs": []
    }
  ]
}