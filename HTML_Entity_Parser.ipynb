{
  "nbformat": 4,
  "nbformat_minor": 0,
  "metadata": {
    "colab": {
      "name": "HTML Entity Parser.ipynb",
      "provenance": [],
      "authorship_tag": "ABX9TyMlKcxlmICPdJJ3Ef82i5TE",
      "include_colab_link": true
    },
    "kernelspec": {
      "name": "python3",
      "display_name": "Python 3"
    }
  },
  "cells": [
    {
      "cell_type": "markdown",
      "metadata": {
        "id": "view-in-github",
        "colab_type": "text"
      },
      "source": [
        "<a href=\"https://colab.research.google.com/github/patternproject/p.LeetCode/blob/master/HTML_Entity_Parser.ipynb\" target=\"_parent\"><img src=\"https://colab.research.google.com/assets/colab-badge.svg\" alt=\"Open In Colab\"/></a>"
      ]
    },
    {
      "cell_type": "markdown",
      "metadata": {
        "id": "DXhPyL1sdLKG",
        "colab_type": "text"
      },
      "source": [
        "# Leet Code"
      ]
    },
    {
      "cell_type": "markdown",
      "metadata": {
        "id": "Gnh_iZoNdM1i",
        "colab_type": "text"
      },
      "source": [
        "# 5382. HTML Entity Parser"
      ]
    },
    {
      "cell_type": "markdown",
      "metadata": {
        "id": "XpwQPryVdPmw",
        "colab_type": "text"
      },
      "source": [
        "HTML entity parser is the parser that takes HTML code as input and replace all the entities of the special characters by the characters itself.\n",
        "\n",
        "The special characters and their entities for HTML are:\n",
        "\n",
        "Quotation Mark: the entity is &quot; and symbol character is \".\n",
        "Single Quote Mark: the entity is &apos; and symbol character is '.\n",
        "Ampersand: the entity is &amp; and symbol character is &.\n",
        "Greater Than Sign: the entity is &gt; and symbol character is >.\n",
        "Less Than Sign: the entity is &lt; and symbol character is <.\n",
        "Slash: the entity is &frasl; and symbol character is /.\n",
        "Given the input text string to the HTML parser, you have to implement the entity parser.\n",
        "\n",
        "Return the text after replacing the entities by the special characters."
      ]
    },
    {
      "cell_type": "code",
      "metadata": {
        "id": "QPRrrMMmflXQ",
        "colab_type": "code",
        "colab": {}
      },
      "source": [
        "text = \"&quot; is an HTML entity but &ambassador; is not.\""
      ],
      "execution_count": 0,
      "outputs": []
    },
    {
      "cell_type": "markdown",
      "metadata": {
        "id": "re2pKGGWmsym",
        "colab_type": "text"
      },
      "source": [
        "* Quotation Mark: the entity is &quot; and symbol character is \".\n",
        "* Single Quote Mark: the entity is &apos; and symbol character is '.\n",
        "* Ampersand: the entity is &amp; and symbol character is &.\n",
        "* Greater Than Sign: the entity is &gt; and symbol character is >.\n",
        "* Less Than Sign: the entity is &lt; and symbol character is <.\n",
        "* Slash: the entity is &frasl; and symbol character is /."
      ]
    },
    {
      "cell_type": "code",
      "metadata": {
        "id": "SBCQtC6ymg_G",
        "colab_type": "code",
        "colab": {}
      },
      "source": [
        "# Remeber to put the & replacement on the last one, in order to avoid chain reaction replacement.\n",
        "#repl_tuple = (('&quot;','\\\\\"'),('&apos;',\"'\"),('&amp;','&'),('&gt;','>'),('&lt;','<'),('&frasl;','/'))\n",
        "repl_tuple = (('&quot;','\\\\\"'),('&apos;',\"'\"),('&gt;','>'),('&lt;','<'),('&frasl;','/'),('&amp;','&'))"
      ],
      "execution_count": 0,
      "outputs": []
    },
    {
      "cell_type": "code",
      "metadata": {
        "id": "yCKlMfPNnzc_",
        "colab_type": "code",
        "colab": {}
      },
      "source": [
        "#text = \"&quot; is an HTML entity but &ambassador; is not.\"\n",
        "text = \"and I quote: &quot;...&quot;\""
      ],
      "execution_count": 0,
      "outputs": []
    },
    {
      "cell_type": "code",
      "metadata": {
        "id": "q9Lj8kysnjvb",
        "colab_type": "code",
        "colab": {}
      },
      "source": [
        "for code in repl_tuple:\n",
        "  text = text.replace(code[0],code[1])"
      ],
      "execution_count": 0,
      "outputs": []
    },
    {
      "cell_type": "code",
      "metadata": {
        "id": "79DcWOtfnrCY",
        "colab_type": "code",
        "colab": {
          "base_uri": "https://localhost:8080/",
          "height": 34
        },
        "outputId": "eb5a52ae-764f-4470-899f-79962e913a90"
      },
      "source": [
        "print(text)"
      ],
      "execution_count": 42,
      "outputs": [
        {
          "output_type": "stream",
          "text": [
            "and I quote: \\\"...\\\"\n"
          ],
          "name": "stdout"
        }
      ]
    },
    {
      "cell_type": "code",
      "metadata": {
        "id": "uOJid31Lns4b",
        "colab_type": "code",
        "colab": {}
      },
      "source": [
        "text = \"Stay home! Practice on Leetcode :)\""
      ],
      "execution_count": 0,
      "outputs": []
    },
    {
      "cell_type": "code",
      "metadata": {
        "id": "OMKngppxpCvl",
        "colab_type": "code",
        "colab": {}
      },
      "source": [
        "for code in repl_tuple:\n",
        "  text = text.replace(code[0],code[1])"
      ],
      "execution_count": 0,
      "outputs": []
    },
    {
      "cell_type": "code",
      "metadata": {
        "id": "Qegtw7IWpEje",
        "colab_type": "code",
        "colab": {
          "base_uri": "https://localhost:8080/",
          "height": 34
        },
        "outputId": "e843eed8-dc4d-4682-d992-dc662376858e"
      },
      "source": [
        "print(text)"
      ],
      "execution_count": 45,
      "outputs": [
        {
          "output_type": "stream",
          "text": [
            "Stay home! Practice on Leetcode :)\n"
          ],
          "name": "stdout"
        }
      ]
    },
    {
      "cell_type": "code",
      "metadata": {
        "id": "Rl4m0N3fpGCh",
        "colab_type": "code",
        "colab": {}
      },
      "source": [
        "text = \"x &gt; y &amp;&amp; x &lt; y is always false\""
      ],
      "execution_count": 0,
      "outputs": []
    },
    {
      "cell_type": "code",
      "metadata": {
        "id": "kT2dYJ1GpMdY",
        "colab_type": "code",
        "colab": {}
      },
      "source": [
        "for code in repl_tuple:\n",
        "  text = text.replace(code[0],code[1])"
      ],
      "execution_count": 0,
      "outputs": []
    },
    {
      "cell_type": "code",
      "metadata": {
        "id": "yyn1fhBTpNMK",
        "colab_type": "code",
        "colab": {
          "base_uri": "https://localhost:8080/",
          "height": 34
        },
        "outputId": "7c403a2e-b559-4a9f-d4ec-9a61fb2b19be"
      },
      "source": [
        "print(text)"
      ],
      "execution_count": 50,
      "outputs": [
        {
          "output_type": "stream",
          "text": [
            "x > y && x < y is always false\n"
          ],
          "name": "stdout"
        }
      ]
    },
    {
      "cell_type": "code",
      "metadata": {
        "id": "v-wmpuLYpO-P",
        "colab_type": "code",
        "colab": {}
      },
      "source": [
        "text = \"leetcode.com&frasl;problemset&frasl;all\""
      ],
      "execution_count": 0,
      "outputs": []
    },
    {
      "cell_type": "code",
      "metadata": {
        "id": "wsP2P-NDpYJM",
        "colab_type": "code",
        "colab": {}
      },
      "source": [
        "for code in repl_tuple:\n",
        "  text = text.replace(code[0],code[1])"
      ],
      "execution_count": 0,
      "outputs": []
    },
    {
      "cell_type": "code",
      "metadata": {
        "id": "8fw4ENldpaF5",
        "colab_type": "code",
        "colab": {
          "base_uri": "https://localhost:8080/",
          "height": 34
        },
        "outputId": "b8414722-58b3-468d-ecc1-3b9493ae5162"
      },
      "source": [
        "print(text)"
      ],
      "execution_count": 53,
      "outputs": [
        {
          "output_type": "stream",
          "text": [
            "leetcode.com/problemset/all\n"
          ],
          "name": "stdout"
        }
      ]
    },
    {
      "cell_type": "code",
      "metadata": {
        "id": "R6WapjgZpboy",
        "colab_type": "code",
        "colab": {}
      },
      "source": [
        "text = \"&amp;gt;\"\n",
        "#text = \"&amp;\"\n"
      ],
      "execution_count": 0,
      "outputs": []
    },
    {
      "cell_type": "code",
      "metadata": {
        "id": "IHvuvT6Be1Sy",
        "colab_type": "code",
        "colab": {}
      },
      "source": [
        "for code in repl_tuple:\n",
        "  text = text.replace(code[0],code[1])"
      ],
      "execution_count": 0,
      "outputs": []
    },
    {
      "cell_type": "code",
      "metadata": {
        "id": "vlw08fETe2lA",
        "colab_type": "code",
        "colab": {
          "base_uri": "https://localhost:8080/",
          "height": 34
        },
        "outputId": "883d2801-d71f-4a3a-d1ff-3088b25d4933"
      },
      "source": [
        "print(text)"
      ],
      "execution_count": 22,
      "outputs": [
        {
          "output_type": "stream",
          "text": [
            "&gt;\n"
          ],
          "name": "stdout"
        }
      ]
    },
    {
      "cell_type": "code",
      "metadata": {
        "id": "RE--yYg2fwnf",
        "colab_type": "code",
        "colab": {
          "base_uri": "https://localhost:8080/",
          "height": 34
        },
        "outputId": "2ca03c92-89a6-48b6-f9d5-3c4adaaca970"
      },
      "source": [
        "entityParser(text)"
      ],
      "execution_count": 18,
      "outputs": [
        {
          "output_type": "execute_result",
          "data": {
            "text/plain": [
              "'>'"
            ]
          },
          "metadata": {
            "tags": []
          },
          "execution_count": 18
        }
      ]
    },
    {
      "cell_type": "code",
      "metadata": {
        "id": "3EPKAQS6fyx8",
        "colab_type": "code",
        "colab": {}
      },
      "source": [
        ""
      ],
      "execution_count": 0,
      "outputs": []
    }
  ]
}