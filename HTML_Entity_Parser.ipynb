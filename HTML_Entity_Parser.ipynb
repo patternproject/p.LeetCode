{
  "nbformat": 4,
  "nbformat_minor": 0,
  "metadata": {
    "colab": {
      "name": "HTML Entity Parser.ipynb",
      "provenance": [],
      "authorship_tag": "ABX9TyN1f5af6Jp41nmdjLwd+/Sb",
      "include_colab_link": true
    },
    "kernelspec": {
      "name": "python3",
      "display_name": "Python 3"
    }
  },
  "cells": [
    {
      "cell_type": "markdown",
      "metadata": {
        "id": "view-in-github",
        "colab_type": "text"
      },
      "source": [
        "<a href=\"https://colab.research.google.com/github/patternproject/p.LeetCode/blob/master/HTML_Entity_Parser.ipynb\" target=\"_parent\"><img src=\"https://colab.research.google.com/assets/colab-badge.svg\" alt=\"Open In Colab\"/></a>"
      ]
    },
    {
      "cell_type": "markdown",
      "metadata": {
        "id": "DXhPyL1sdLKG",
        "colab_type": "text"
      },
      "source": [
        "# Leet Code"
      ]
    },
    {
      "cell_type": "markdown",
      "metadata": {
        "id": "Gnh_iZoNdM1i",
        "colab_type": "text"
      },
      "source": [
        "# 5382. HTML Entity Parser"
      ]
    },
    {
      "cell_type": "markdown",
      "metadata": {
        "id": "XpwQPryVdPmw",
        "colab_type": "text"
      },
      "source": [
        "HTML entity parser is the parser that takes HTML code as input and replace all the entities of the special characters by the characters itself.\n",
        "\n",
        "The special characters and their entities for HTML are:\n",
        "\n",
        "Quotation Mark: the entity is &quot; and symbol character is \".\n",
        "Single Quote Mark: the entity is &apos; and symbol character is '.\n",
        "Ampersand: the entity is &amp; and symbol character is &.\n",
        "Greater Than Sign: the entity is &gt; and symbol character is >.\n",
        "Less Than Sign: the entity is &lt; and symbol character is <.\n",
        "Slash: the entity is &frasl; and symbol character is /.\n",
        "Given the input text string to the HTML parser, you have to implement the entity parser.\n",
        "\n",
        "Return the text after replacing the entities by the special characters."
      ]
    },
    {
      "cell_type": "code",
      "metadata": {
        "id": "hA4pPpHSdMPA",
        "colab_type": "code",
        "colab": {}
      },
      "source": [
        "repl_dict = {u\"&quot;\" : u\"\"}"
      ],
      "execution_count": 0,
      "outputs": []
    },
    {
      "cell_type": "code",
      "metadata": {
        "id": "QPRrrMMmflXQ",
        "colab_type": "code",
        "colab": {}
      },
      "source": [
        "text = \"&quot; is an HTML entity but &ambassador; is not.\""
      ],
      "execution_count": 0,
      "outputs": []
    },
    {
      "cell_type": "code",
      "metadata": {
        "id": "U4zVN7_Ldvcx",
        "colab_type": "code",
        "colab": {
          "base_uri": "https://localhost:8080/",
          "height": 34
        },
        "outputId": "3d5ec8b7-2cbf-48c5-98dd-3054eac703a4"
      },
      "source": [
        "for key,values in repl_dict.items():\n",
        "  print(key,values)"
      ],
      "execution_count": 4,
      "outputs": [
        {
          "output_type": "stream",
          "text": [
            "&quot; \n"
          ],
          "name": "stdout"
        }
      ]
    },
    {
      "cell_type": "code",
      "metadata": {
        "id": "ypgDZ19qfezZ",
        "colab_type": "code",
        "colab": {
          "base_uri": "https://localhost:8080/",
          "height": 34
        },
        "outputId": "b48ece27-c7d4-498d-d143-eb1a81f02392"
      },
      "source": [
        "print(text)"
      ],
      "execution_count": 8,
      "outputs": [
        {
          "output_type": "stream",
          "text": [
            "&quot; is an HTML entity but &ambassador; is not.\n"
          ],
          "name": "stdout"
        }
      ]
    },
    {
      "cell_type": "code",
      "metadata": {
        "id": "UPYWwsQpfpLr",
        "colab_type": "code",
        "colab": {
          "base_uri": "https://localhost:8080/",
          "height": 34
        },
        "outputId": "c3d2111c-1b12-4857-cb74-4f73395b9bb1"
      },
      "source": [
        "s = '&quot;'\n",
        "s.encode(\"utf-8\")"
      ],
      "execution_count": 9,
      "outputs": [
        {
          "output_type": "execute_result",
          "data": {
            "text/plain": [
              "b'&quot;'"
            ]
          },
          "metadata": {
            "tags": []
          },
          "execution_count": 9
        }
      ]
    },
    {
      "cell_type": "code",
      "metadata": {
        "id": "uaSMPEtUhCkQ",
        "colab_type": "code",
        "colab": {
          "base_uri": "https://localhost:8080/",
          "height": 34
        },
        "outputId": "bf358ea5-5b22-4666-bc36-1104894c4d8a"
      },
      "source": [
        "address = \"123 north anywhere street\"\n",
        "\n",
        "for word, initial in {\"NORTH\":\"N\", \"SOUTH\":\"S\" }.items():\n",
        "    address = address.replace(word.lower(), initial)\n",
        "print(address)"
      ],
      "execution_count": 10,
      "outputs": [
        {
          "output_type": "stream",
          "text": [
            "123 N anywhere street\n"
          ],
          "name": "stdout"
        }
      ]
    },
    {
      "cell_type": "code",
      "metadata": {
        "id": "5VKcPKa2mG_R",
        "colab_type": "code",
        "colab": {}
      },
      "source": [
        "   htmlCodes = (\n",
        "            (\"'\", '&#39;'),\n",
        "            ('\"', '&quot;'),\n",
        "            ('>', '&gt;'),\n",
        "            ('<', '&lt;'),\n",
        "            ('&', '&amp;')\n",
        "        )\n",
        "    for code in htmlCodes:\n",
        "        s = s.replace(code[1], code[0])"
      ],
      "execution_count": 0,
      "outputs": []
    },
    {
      "cell_type": "code",
      "metadata": {
        "id": "0yHVUEtGmLXQ",
        "colab_type": "code",
        "colab": {}
      },
      "source": [
        "htmlCodes = ((\"'\", '&#39;'),\n",
        "            ('\"', '&quot;'),\n",
        "            ('>', '&gt;'),\n",
        "            ('<', '&lt;'),\n",
        "            ('&', '&amp;'))"
      ],
      "execution_count": 0,
      "outputs": []
    },
    {
      "cell_type": "code",
      "metadata": {
        "id": "nzF2f1aimTzg",
        "colab_type": "code",
        "colab": {
          "base_uri": "https://localhost:8080/",
          "height": 34
        },
        "outputId": "f74407b1-979a-4083-9914-3fde3bff6d91"
      },
      "source": [
        "htmlCodes"
      ],
      "execution_count": 18,
      "outputs": [
        {
          "output_type": "execute_result",
          "data": {
            "text/plain": [
              "((\"'\", '&#39;'), ('\"', '&quot;'), ('>', '&gt;'), ('<', '&lt;'), ('&', '&amp;'))"
            ]
          },
          "metadata": {
            "tags": []
          },
          "execution_count": 18
        }
      ]
    },
    {
      "cell_type": "code",
      "metadata": {
        "id": "N1wsnfcumVgc",
        "colab_type": "code",
        "colab": {}
      },
      "source": [
        "for code in htmlCodes:\n",
        "        text = text.replace(code[1], code[0])"
      ],
      "execution_count": 0,
      "outputs": []
    },
    {
      "cell_type": "code",
      "metadata": {
        "id": "zntTz55Jmdr1",
        "colab_type": "code",
        "colab": {
          "base_uri": "https://localhost:8080/",
          "height": 34
        },
        "outputId": "ea1739dd-98b2-4032-84de-0ebfd769a21f"
      },
      "source": [
        "text"
      ],
      "execution_count": 21,
      "outputs": [
        {
          "output_type": "execute_result",
          "data": {
            "text/plain": [
              "'\" is an HTML entity but &ambassador; is not.'"
            ]
          },
          "metadata": {
            "tags": []
          },
          "execution_count": 21
        }
      ]
    },
    {
      "cell_type": "markdown",
      "metadata": {
        "id": "re2pKGGWmsym",
        "colab_type": "text"
      },
      "source": [
        "* Quotation Mark: the entity is &quot; and symbol character is \".\n",
        "* Single Quote Mark: the entity is &apos; and symbol character is '.\n",
        "* Ampersand: the entity is &amp; and symbol character is &.\n",
        "* Greater Than Sign: the entity is &gt; and symbol character is >.\n",
        "* Less Than Sign: the entity is &lt; and symbol character is <.\n",
        "* Slash: the entity is &frasl; and symbol character is /."
      ]
    },
    {
      "cell_type": "code",
      "metadata": {
        "id": "SBCQtC6ymg_G",
        "colab_type": "code",
        "colab": {}
      },
      "source": [
        "repl_tuple = (('&quot;','\\\\\"'),('&apos;',\"'\"),('&amp;','&'),('&gt;','>'),('&lt;','<'),('&frasl;','/'))"
      ],
      "execution_count": 0,
      "outputs": []
    },
    {
      "cell_type": "code",
      "metadata": {
        "id": "yCKlMfPNnzc_",
        "colab_type": "code",
        "colab": {}
      },
      "source": [
        "#text = \"&quot; is an HTML entity but &ambassador; is not.\"\n",
        "text = \"and I quote: &quot;...&quot;\""
      ],
      "execution_count": 0,
      "outputs": []
    },
    {
      "cell_type": "code",
      "metadata": {
        "id": "q9Lj8kysnjvb",
        "colab_type": "code",
        "colab": {}
      },
      "source": [
        "for code in repl_tuple:\n",
        "  text = text.replace(code[0],code[1])"
      ],
      "execution_count": 0,
      "outputs": []
    },
    {
      "cell_type": "code",
      "metadata": {
        "id": "79DcWOtfnrCY",
        "colab_type": "code",
        "colab": {
          "base_uri": "https://localhost:8080/",
          "height": 34
        },
        "outputId": "eb5a52ae-764f-4470-899f-79962e913a90"
      },
      "source": [
        "print(text)"
      ],
      "execution_count": 42,
      "outputs": [
        {
          "output_type": "stream",
          "text": [
            "and I quote: \\\"...\\\"\n"
          ],
          "name": "stdout"
        }
      ]
    },
    {
      "cell_type": "code",
      "metadata": {
        "id": "uOJid31Lns4b",
        "colab_type": "code",
        "colab": {}
      },
      "source": [
        "text = \"Stay home! Practice on Leetcode :)\""
      ],
      "execution_count": 0,
      "outputs": []
    },
    {
      "cell_type": "code",
      "metadata": {
        "id": "OMKngppxpCvl",
        "colab_type": "code",
        "colab": {}
      },
      "source": [
        "for code in repl_tuple:\n",
        "  text = text.replace(code[0],code[1])"
      ],
      "execution_count": 0,
      "outputs": []
    },
    {
      "cell_type": "code",
      "metadata": {
        "id": "Qegtw7IWpEje",
        "colab_type": "code",
        "colab": {
          "base_uri": "https://localhost:8080/",
          "height": 34
        },
        "outputId": "e843eed8-dc4d-4682-d992-dc662376858e"
      },
      "source": [
        "print(text)"
      ],
      "execution_count": 45,
      "outputs": [
        {
          "output_type": "stream",
          "text": [
            "Stay home! Practice on Leetcode :)\n"
          ],
          "name": "stdout"
        }
      ]
    },
    {
      "cell_type": "code",
      "metadata": {
        "id": "Rl4m0N3fpGCh",
        "colab_type": "code",
        "colab": {}
      },
      "source": [
        "text = \"x &gt; y &amp;&amp; x &lt; y is always false\""
      ],
      "execution_count": 0,
      "outputs": []
    },
    {
      "cell_type": "code",
      "metadata": {
        "id": "kT2dYJ1GpMdY",
        "colab_type": "code",
        "colab": {}
      },
      "source": [
        "for code in repl_tuple:\n",
        "  text = text.replace(code[0],code[1])"
      ],
      "execution_count": 0,
      "outputs": []
    },
    {
      "cell_type": "code",
      "metadata": {
        "id": "yyn1fhBTpNMK",
        "colab_type": "code",
        "colab": {
          "base_uri": "https://localhost:8080/",
          "height": 34
        },
        "outputId": "7c403a2e-b559-4a9f-d4ec-9a61fb2b19be"
      },
      "source": [
        "print(text)"
      ],
      "execution_count": 50,
      "outputs": [
        {
          "output_type": "stream",
          "text": [
            "x > y && x < y is always false\n"
          ],
          "name": "stdout"
        }
      ]
    },
    {
      "cell_type": "code",
      "metadata": {
        "id": "v-wmpuLYpO-P",
        "colab_type": "code",
        "colab": {}
      },
      "source": [
        "text = \"leetcode.com&frasl;problemset&frasl;all\""
      ],
      "execution_count": 0,
      "outputs": []
    },
    {
      "cell_type": "code",
      "metadata": {
        "id": "wsP2P-NDpYJM",
        "colab_type": "code",
        "colab": {}
      },
      "source": [
        "for code in repl_tuple:\n",
        "  text = text.replace(code[0],code[1])"
      ],
      "execution_count": 0,
      "outputs": []
    },
    {
      "cell_type": "code",
      "metadata": {
        "id": "8fw4ENldpaF5",
        "colab_type": "code",
        "colab": {
          "base_uri": "https://localhost:8080/",
          "height": 34
        },
        "outputId": "b8414722-58b3-468d-ecc1-3b9493ae5162"
      },
      "source": [
        "print(text)"
      ],
      "execution_count": 53,
      "outputs": [
        {
          "output_type": "stream",
          "text": [
            "leetcode.com/problemset/all\n"
          ],
          "name": "stdout"
        }
      ]
    },
    {
      "cell_type": "code",
      "metadata": {
        "id": "R6WapjgZpboy",
        "colab_type": "code",
        "colab": {}
      },
      "source": [
        ""
      ],
      "execution_count": 0,
      "outputs": []
    }
  ]
}