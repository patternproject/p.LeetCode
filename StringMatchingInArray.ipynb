{
  "nbformat": 4,
  "nbformat_minor": 0,
  "metadata": {
    "colab": {
      "name": "StringMatchingInArray.ipynb",
      "provenance": [],
      "authorship_tag": "ABX9TyOPLHSRRUr8QsljPFbNGEi7",
      "include_colab_link": true
    },
    "kernelspec": {
      "name": "python3",
      "display_name": "Python 3"
    }
  },
  "cells": [
    {
      "cell_type": "markdown",
      "metadata": {
        "id": "view-in-github",
        "colab_type": "text"
      },
      "source": [
        "<a href=\"https://colab.research.google.com/github/patternproject/p.LeetCode/blob/master/StringMatchingInArray.ipynb\" target=\"_parent\"><img src=\"https://colab.research.google.com/assets/colab-badge.svg\" alt=\"Open In Colab\"/></a>"
      ]
    },
    {
      "cell_type": "markdown",
      "metadata": {
        "id": "uUWDYQsuVE5Y",
        "colab_type": "text"
      },
      "source": [
        "# LeetCode"
      ]
    },
    {
      "cell_type": "markdown",
      "metadata": {
        "id": "E4z_hbcoVEs8",
        "colab_type": "text"
      },
      "source": [
        "## 5380. String Matching in an Array\n",
        "User Accepted:5199\n",
        "User Tried:5438\n",
        "Total Accepted:5396\n",
        "Total Submissions:9199\n",
        "Difficulty:Easy\n",
        "Given an array of string words. Return all strings in words which is substring of another word in any order. \n",
        "\n",
        "String words[i] is substring of words[j], if can be obtained removing some characters to left and/or right side of words[j]."
      ]
    },
    {
      "cell_type": "code",
      "metadata": {
        "id": "_P2CDqAkQTIp",
        "colab_type": "code",
        "colab": {}
      },
      "source": [
        "#words = [\"mass\",\"as\"]\n",
        "#words = [\"mass\",\"as\",\"hero\",\"superhero\"]\n",
        "#words = [\"leetcode\",\"et\",\"code\"]\n",
        "#words = [\"blue\",\"green\",\"bu\"]\n",
        "words = [\"leetcoder\",\"leetcode\",\"od\",\"hamlet\",\"am\"]"
      ],
      "execution_count": 0,
      "outputs": []
    },
    {
      "cell_type": "code",
      "metadata": {
        "id": "1a0VnpKjPc5r",
        "colab_type": "code",
        "colab": {}
      },
      "source": [
        "class Solution:\n",
        "    #def stringMatching(self, words: List[str]) -> List[str]:\n",
        "    def stringMatching(self, words) :\n",
        "      result_list = []\n",
        "      len_words = len(words)\n",
        "      for i in range(len_words):\n",
        "        for j in range(i+1, len_words):\n",
        "          print(f'{words[i]}')\n",
        "          print(f'{words[j]}')\n",
        "          if(words[i] in words[j]):\n",
        "            print(\"in if\")\n",
        "            result_list.append(words[i])\n",
        "            print(f'{result_list}')\n",
        "          elif(words[j] in words[i]):\n",
        "            print(\"in elseif\")\n",
        "            result_list.append(words[j])\n",
        "            print(f'{result_list}')\n",
        "      return list(set(result_list))\n",
        "      "
      ],
      "execution_count": 0,
      "outputs": []
    },
    {
      "cell_type": "code",
      "metadata": {
        "id": "sKHTUB92QXzM",
        "colab_type": "code",
        "colab": {}
      },
      "source": [
        "s = Solution()"
      ],
      "execution_count": 0,
      "outputs": []
    },
    {
      "cell_type": "code",
      "metadata": {
        "id": "KzgCjvwCS7TZ",
        "colab_type": "code",
        "colab": {
          "base_uri": "https://localhost:8080/",
          "height": 532
        },
        "outputId": "604d7bb7-9aaf-42bb-bd79-e052fbcb8ede"
      },
      "source": [
        "s.stringMatching(words)"
      ],
      "execution_count": 33,
      "outputs": [
        {
          "output_type": "stream",
          "text": [
            "leetcoder\n",
            "leetcode\n",
            "in elseif\n",
            "['leetcode']\n",
            "leetcoder\n",
            "od\n",
            "in elseif\n",
            "['leetcode', 'od']\n",
            "leetcoder\n",
            "hamlet\n",
            "leetcoder\n",
            "am\n",
            "leetcode\n",
            "od\n",
            "in elseif\n",
            "['leetcode', 'od', 'od']\n",
            "leetcode\n",
            "hamlet\n",
            "leetcode\n",
            "am\n",
            "od\n",
            "hamlet\n",
            "od\n",
            "am\n",
            "hamlet\n",
            "am\n",
            "in elseif\n",
            "['leetcode', 'od', 'od', 'am']\n"
          ],
          "name": "stdout"
        },
        {
          "output_type": "execute_result",
          "data": {
            "text/plain": [
              "['am', 'leetcode', 'od']"
            ]
          },
          "metadata": {
            "tags": []
          },
          "execution_count": 33
        }
      ]
    },
    {
      "cell_type": "code",
      "metadata": {
        "id": "PxSI0lWtTGAM",
        "colab_type": "code",
        "colab": {
          "base_uri": "https://localhost:8080/",
          "height": 34
        },
        "outputId": "5af6e808-4530-41a8-a177-e9eafd6407e0"
      },
      "source": [
        "\"ass\" in \"mass\""
      ],
      "execution_count": 12,
      "outputs": [
        {
          "output_type": "execute_result",
          "data": {
            "text/plain": [
              "True"
            ]
          },
          "metadata": {
            "tags": []
          },
          "execution_count": 12
        }
      ]
    },
    {
      "cell_type": "code",
      "metadata": {
        "id": "upWtAvrRTRMN",
        "colab_type": "code",
        "colab": {}
      },
      "source": [
        "class Solution:\n",
        "    def stringMatching(self, words) :\n",
        "      result_list = []\n",
        "      len_words = len(words)\n",
        "      for i in range(len_words):\n",
        "        for j in range(i+1, len_words):\n",
        "          print(f'{words[i]}')\n",
        "          print(f'{words[j]}')\n",
        "          if(words[i] in words[j]):\n",
        "            print(\"in if\")\n",
        "            result_list.append(words[i])\n",
        "            print(f'{result_list}')\n",
        "          elif(words[j] in words[i]):\n",
        "            print(\"in elseif\")\n",
        "            result_list.append(words[j])\n",
        "            print(f'{result_list}')\n",
        "      return result_list \n",
        "      "
      ],
      "execution_count": 0,
      "outputs": []
    }
  ]
}