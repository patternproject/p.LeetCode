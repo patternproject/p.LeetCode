{
  "nbformat": 4,
  "nbformat_minor": 0,
  "metadata": {
    "colab": {
      "name": "Queries on a Permutation With Key.ipynb",
      "provenance": [],
      "authorship_tag": "ABX9TyMYr+H6oOpsLiwwgmEETkF/",
      "include_colab_link": true
    },
    "kernelspec": {
      "name": "python3",
      "display_name": "Python 3"
    }
  },
  "cells": [
    {
      "cell_type": "markdown",
      "metadata": {
        "id": "view-in-github",
        "colab_type": "text"
      },
      "source": [
        "<a href=\"https://colab.research.google.com/github/patternproject/p.LeetCode/blob/master/Queries_on_a_Permutation_With_Key.ipynb\" target=\"_parent\"><img src=\"https://colab.research.google.com/assets/colab-badge.svg\" alt=\"Open In Colab\"/></a>"
      ]
    },
    {
      "cell_type": "markdown",
      "metadata": {
        "id": "A4b7_0BNXciY",
        "colab_type": "text"
      },
      "source": [
        "# Leet Code"
      ]
    },
    {
      "cell_type": "markdown",
      "metadata": {
        "id": "FZUoO6CWXcWe",
        "colab_type": "text"
      },
      "source": [
        "## 5381. Queries on a Permutation With Key\n",
        "User Accepted:2495\n",
        "User Tried:2613\n",
        "Total Accepted:2517\n",
        "Total Submissions:2836\n",
        "Difficulty:Medium\n",
        "Given the array queries of positive integers between 1 and m, you have to process all queries[i] (from i=0 to i=queries.length-1) according to the following rules:\n",
        "\n",
        "In the beginning, you have the permutation P=[1,2,3,...,m].\n",
        "For the current i, find the position of queries[i] in the permutation P (indexing from 0) and then move this at the beginning of the permutation P. Notice that the position of queries[i] in P is the result for queries[i].\n",
        "Return an array containing the result for the given queries."
      ]
    },
    {
      "cell_type": "markdown",
      "metadata": {
        "id": "IkT6iLCpXihQ",
        "colab_type": "text"
      },
      "source": [
        "## Example 1:"
      ]
    },
    {
      "cell_type": "markdown",
      "metadata": {
        "id": "lQo7g8g4XnIY",
        "colab_type": "text"
      },
      "source": [
        "Input: queries = [3,1,2,1], m = 5\n",
        "Output: [2,1,2,1] \n",
        "Explanation: The queries are processed as follow: \n",
        "For i=0: queries[i]=3, P=[1,2,3,4,5], position of 3 in P is 2, then we move 3 to the beginning of P resulting in P=[3,1,2,4,5]. \n",
        "For i=1: queries[i]=1, P=[3,1,2,4,5], position of 1 in P is 1, then we move 1 to the beginning of P resulting in P=[1,3,2,4,5]. \n",
        "For i=2: queries[i]=2, P=[1,3,2,4,5], position of 2 in P is 2, then we move 2 to the beginning of P resulting in P=[2,1,3,4,5]. \n",
        "For i=3: queries[i]=1, P=[2,1,3,4,5], position of 1 in P is 1, then we move 1 to the beginning of P resulting in P=[1,2,3,4,5]. \n",
        "Therefore, the array containing the result is [2,1,2,1].  "
      ]
    },
    {
      "cell_type": "code",
      "metadata": {
        "id": "FBy63_TbVXy-",
        "colab_type": "code",
        "colab": {}
      },
      "source": [
        "## passes\n",
        "#queries = [3,1,2,1]\n",
        "#m = 5"
      ],
      "execution_count": 0,
      "outputs": []
    },
    {
      "cell_type": "code",
      "metadata": {
        "id": "ac-RDOhZcr6f",
        "colab_type": "code",
        "colab": {}
      },
      "source": [
        "queries = [4,1,2,2]\n",
        "m = 4"
      ],
      "execution_count": 0,
      "outputs": []
    },
    {
      "cell_type": "code",
      "metadata": {
        "id": "mM7oxpgvXZQ7",
        "colab_type": "code",
        "colab": {}
      },
      "source": [
        "class Solution:\n",
        "    def processQueries(self, queries, m) :\n",
        "      queries_length = len(queries)\n",
        "      result_list = []\n",
        "      p = list(range(1,m+1))\n",
        "      for i in range(queries_length):\n",
        "        #print(p.index(queries[i]))\n",
        "        p_index = p.index(queries[i])\n",
        "        # move p to beginning of list\n",
        "        p.insert(0,p.pop(p_index))\n",
        "        print(f'{p}')\n",
        "        # save this index\n",
        "        result_list.append(p_index)\n",
        "        print(f'{result_list}')\n",
        "        print('----')\n",
        "      return (result_list)\n",
        "\n",
        "        "
      ],
      "execution_count": 0,
      "outputs": []
    },
    {
      "cell_type": "code",
      "metadata": {
        "id": "5SRq2OqUYnIQ",
        "colab_type": "code",
        "colab": {}
      },
      "source": [
        "s = Solution()"
      ],
      "execution_count": 0,
      "outputs": []
    },
    {
      "cell_type": "code",
      "metadata": {
        "id": "_ZLbI4i1aH7K",
        "colab_type": "code",
        "colab": {
          "base_uri": "https://localhost:8080/",
          "height": 247
        },
        "outputId": "fb68c6a6-5bb3-44d7-8074-fd7409a643a0"
      },
      "source": [
        "s.processQueries(queries,m)"
      ],
      "execution_count": 29,
      "outputs": [
        {
          "output_type": "stream",
          "text": [
            "[4, 1, 2, 3]\n",
            "[3]\n",
            "----\n",
            "[1, 4, 2, 3]\n",
            "[3, 1]\n",
            "----\n",
            "[2, 1, 4, 3]\n",
            "[3, 1, 2]\n",
            "----\n",
            "[2, 1, 4, 3]\n",
            "[3, 1, 2, 0]\n",
            "----\n"
          ],
          "name": "stdout"
        },
        {
          "output_type": "execute_result",
          "data": {
            "text/plain": [
              "[3, 1, 2, 0]"
            ]
          },
          "metadata": {
            "tags": []
          },
          "execution_count": 29
        }
      ]
    },
    {
      "cell_type": "code",
      "metadata": {
        "id": "HfmELeW5aJp7",
        "colab_type": "code",
        "colab": {}
      },
      "source": [
        "class Solution:\n",
        "    def processQueries(self, queries, m) :\n",
        "      queries_length = len(queries)\n",
        "      result_list = []\n",
        "      p = list(range(1,m+1))\n",
        "      for i in range(queries_length):\n",
        "        p_index = p.index(queries[i])\n",
        "        # move p to beginning of list\n",
        "        p.insert(0,p.pop(p_index))\n",
        "        # save this index\n",
        "        result_list.append(p_index)\n",
        "      return (result_list)\n",
        "\n",
        "\n"
      ],
      "execution_count": 0,
      "outputs": []
    }
  ]
}