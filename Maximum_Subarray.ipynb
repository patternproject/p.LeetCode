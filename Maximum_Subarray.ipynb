{
  "nbformat": 4,
  "nbformat_minor": 0,
  "metadata": {
    "colab": {
      "name": "Maximum Subarray.ipynb",
      "provenance": [],
      "authorship_tag": "ABX9TyMjd9NwEOMmKkY0YJcMm80Q",
      "include_colab_link": true
    },
    "kernelspec": {
      "name": "python3",
      "display_name": "Python 3"
    }
  },
  "cells": [
    {
      "cell_type": "markdown",
      "metadata": {
        "id": "view-in-github",
        "colab_type": "text"
      },
      "source": [
        "<a href=\"https://colab.research.google.com/github/patternproject/p.LeetCode/blob/master/Maximum_Subarray.ipynb\" target=\"_parent\"><img src=\"https://colab.research.google.com/assets/colab-badge.svg\" alt=\"Open In Colab\"/></a>"
      ]
    },
    {
      "cell_type": "markdown",
      "metadata": {
        "id": "vkvumBZ1okt_",
        "colab_type": "text"
      },
      "source": [
        "# LeetCode "
      ]
    },
    {
      "cell_type": "markdown",
      "metadata": {
        "id": "5tUvN2DQokOF",
        "colab_type": "text"
      },
      "source": [
        "## Maximum Subarray"
      ]
    },
    {
      "cell_type": "markdown",
      "metadata": {
        "id": "koFzVfixowj1",
        "colab_type": "text"
      },
      "source": [
        "Given an integer array nums, find the contiguous subarray (containing at least one number) which has the largest sum and return its sum.\n",
        "\n",
        "Example:\n",
        "\n",
        "Input: [-2,1,-3,4,-1,2,1,-5,4],\n",
        "Output: 6\n",
        "Explanation: [4,-1,2,1] has the largest sum = 6.\n",
        "Follow up:\n",
        "\n",
        "If you have figured out the O(n) solution, try coding another solution using the divide and conquer approach, which is more subtle."
      ]
    },
    {
      "cell_type": "markdown",
      "metadata": {
        "id": "27y-3iJVo6Os",
        "colab_type": "text"
      },
      "source": [
        "## Revision History\n",
        "\n",
        "* v1: First Attempt \n",
        "* v2: Interesting to note that to print non-empty contiguous subset you need to use if statement)\n",
        "* v3: Working version - before clean up\n",
        "* v4: Cleaned up \n",
        "* v5: Going with recursive approach now"
      ]
    },
    {
      "cell_type": "code",
      "metadata": {
        "id": "Cb8wjVI2duCr",
        "colab_type": "code",
        "colab": {}
      },
      "source": [
        "#input_list = [1,2,3,4]\n",
        "\n",
        "input_list = [-2,1,-3,4,-1,2,1,-5,4]"
      ],
      "execution_count": 0,
      "outputs": []
    },
    {
      "cell_type": "code",
      "metadata": {
        "id": "DgvN79vip3AO",
        "colab_type": "code",
        "colab": {}
      },
      "source": [
        "''' classic linear '''\n",
        "class Solution:\n",
        "    def maxSubArray1(self, nums) -> int:\n",
        "      output_list = []\n",
        "      len_list = len(input_list)\n",
        "      for i in range(len_list):\n",
        "        for j in range(len_list):\n",
        "          #print(f'i:{i} j:{j}')\n",
        "          if(j>=i):\n",
        "            print(input_list[i:j+1])\n",
        "            output_list.append(sum(input_list[i:j+1]))\n",
        "            print(f'output: {output_list}')\n",
        "      \n",
        "      return (max(output_list))\n",
        "    "
      ],
      "execution_count": 0,
      "outputs": []
    },
    {
      "cell_type": "code",
      "metadata": {
        "id": "Cw79ZwzF0tkz",
        "colab_type": "code",
        "colab": {}
      },
      "source": [
        "''' recursive version  '''\n",
        "\n",
        "class Solution:\n",
        "    def maxSubArray(self, nums) -> int:\n",
        "      len_list = len(nums)\n",
        "      # list empty \n",
        "      if(len_list == 0):\n",
        "        return(0)\n",
        "      # list has one element - base case\n",
        "      elif (len_list ==1):\n",
        "        return(nums[0])\n",
        "      # list has more than one element - recursive case\n",
        "      else:\n",
        "        ## sum of all sub-seq starting with the first element in the list\n",
        "        #print([sum(nums[:i+1]) for i in range(len_list)])\n",
        "        \n",
        "        ## max of sum of all sub-seq \n",
        "        #print(max([sum(nums[:i+1]) for i in range(len_list)]))\n",
        "        \n",
        "        ## returning max of sum of all sub-seq\n",
        "        #return(max([sum(nums[:i+1]) for i in range(len_list)]))\n",
        "        \n",
        "        ## now turning it into a recursive version\n",
        "        max_sum = max([sum(nums[:i+1]) for i in range(len_list)])\n",
        "\n",
        "        ## max of the two (sum of all sub-seq start with first element) (sum of all sub-seq starting with second element)\n",
        "        return(max(max_sum,self.maxSubArray(nums[1:])))\n",
        "\n",
        "        \n",
        "        \n",
        "      \n",
        "\n",
        "      \n",
        "      "
      ],
      "execution_count": 0,
      "outputs": []
    },
    {
      "cell_type": "code",
      "metadata": {
        "id": "WndnkxhCqS-e",
        "colab_type": "code",
        "colab": {}
      },
      "source": [
        "s = Solution()"
      ],
      "execution_count": 0,
      "outputs": []
    },
    {
      "cell_type": "code",
      "metadata": {
        "id": "c8CaPvbIqVaI",
        "colab_type": "code",
        "outputId": "6933fb4c-e2c4-4347-cc47-4ef9470e4459",
        "colab": {
          "base_uri": "https://localhost:8080/",
          "height": 34
        }
      },
      "source": [
        "s.maxSubArray(input_list)"
      ],
      "execution_count": 104,
      "outputs": [
        {
          "output_type": "execute_result",
          "data": {
            "text/plain": [
              "6"
            ]
          },
          "metadata": {
            "tags": []
          },
          "execution_count": 104
        }
      ]
    },
    {
      "cell_type": "code",
      "metadata": {
        "id": "HMwuHium2BWF",
        "colab_type": "code",
        "colab": {}
      },
      "source": [
        ""
      ],
      "execution_count": 0,
      "outputs": []
    }
  ]
}