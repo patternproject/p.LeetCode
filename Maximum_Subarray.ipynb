{
  "nbformat": 4,
  "nbformat_minor": 0,
  "metadata": {
    "colab": {
      "name": "Maximum Subarray.ipynb",
      "provenance": [],
      "authorship_tag": "ABX9TyNLi9snLoPIwrFaHTPnVPjA",
      "include_colab_link": true
    },
    "kernelspec": {
      "name": "python3",
      "display_name": "Python 3"
    }
  },
  "cells": [
    {
      "cell_type": "markdown",
      "metadata": {
        "id": "view-in-github",
        "colab_type": "text"
      },
      "source": [
        "<a href=\"https://colab.research.google.com/github/patternproject/p.LeetCode/blob/master/Maximum_Subarray.ipynb\" target=\"_parent\"><img src=\"https://colab.research.google.com/assets/colab-badge.svg\" alt=\"Open In Colab\"/></a>"
      ]
    },
    {
      "cell_type": "markdown",
      "metadata": {
        "id": "vkvumBZ1okt_",
        "colab_type": "text"
      },
      "source": [
        "# LeetCode "
      ]
    },
    {
      "cell_type": "markdown",
      "metadata": {
        "id": "5tUvN2DQokOF",
        "colab_type": "text"
      },
      "source": [
        "## Maximum Subarray"
      ]
    },
    {
      "cell_type": "markdown",
      "metadata": {
        "id": "koFzVfixowj1",
        "colab_type": "text"
      },
      "source": [
        "Given an integer array nums, find the contiguous subarray (containing at least one number) which has the largest sum and return its sum.\n",
        "\n",
        "Example:\n",
        "\n",
        "Input: [-2,1,-3,4,-1,2,1,-5,4],\n",
        "Output: 6\n",
        "Explanation: [4,-1,2,1] has the largest sum = 6.\n",
        "Follow up:\n",
        "\n",
        "If you have figured out the O(n) solution, try coding another solution using the divide and conquer approach, which is more subtle."
      ]
    },
    {
      "cell_type": "markdown",
      "metadata": {
        "id": "27y-3iJVo6Os",
        "colab_type": "text"
      },
      "source": [
        "## Revision History\n",
        "\n",
        "* v1: First Attempt \n",
        "* v2: Interesting to note that to print non-empty contiguous subset you need to use if statement)\n",
        "* v3: Working version - before clean up"
      ]
    },
    {
      "cell_type": "code",
      "metadata": {
        "id": "Cb8wjVI2duCr",
        "colab_type": "code",
        "colab": {}
      },
      "source": [
        "#input_list = [-2,1,-3,4,-1,2,1,-5,4]\n",
        "input_list = [1,2,3,4]"
      ],
      "execution_count": 0,
      "outputs": []
    },
    {
      "cell_type": "code",
      "metadata": {
        "id": "DgvN79vip3AO",
        "colab_type": "code",
        "colab": {}
      },
      "source": [
        "class Solution:\n",
        "    def maxSubArray(self, nums) -> int:\n",
        "      output_list = []\n",
        "      len_list = len(input_list)\n",
        "      for i in range(len_list):\n",
        "        for j in range(len_list):\n",
        "          #print(f'i:{i} j:{j}')\n",
        "          if(j>=i):\n",
        "            print(input_list[i:j+1])\n",
        "            output_list.append(sum(input_list[i:j+1]))\n",
        "            print(f'output: {output_list}')\n",
        "      \n",
        "      return (max(output_list))\n",
        "    "
      ],
      "execution_count": 0,
      "outputs": []
    },
    {
      "cell_type": "code",
      "metadata": {
        "id": "WndnkxhCqS-e",
        "colab_type": "code",
        "colab": {}
      },
      "source": [
        "s = Solution()"
      ],
      "execution_count": 0,
      "outputs": []
    },
    {
      "cell_type": "code",
      "metadata": {
        "id": "c8CaPvbIqVaI",
        "colab_type": "code",
        "colab": {
          "base_uri": "https://localhost:8080/",
          "height": 390
        },
        "outputId": "fc4937c0-5786-4f59-e91c-e51871f7e203"
      },
      "source": [
        "s.maxSubArray(input_list)"
      ],
      "execution_count": 59,
      "outputs": [
        {
          "output_type": "stream",
          "text": [
            "[1]\n",
            "output: [1]\n",
            "[1, 2]\n",
            "output: [1, 3]\n",
            "[1, 2, 3]\n",
            "output: [1, 3, 6]\n",
            "[1, 2, 3, 4]\n",
            "output: [1, 3, 6, 10]\n",
            "[2]\n",
            "output: [1, 3, 6, 10, 2]\n",
            "[2, 3]\n",
            "output: [1, 3, 6, 10, 2, 5]\n",
            "[2, 3, 4]\n",
            "output: [1, 3, 6, 10, 2, 5, 9]\n",
            "[3]\n",
            "output: [1, 3, 6, 10, 2, 5, 9, 3]\n",
            "[3, 4]\n",
            "output: [1, 3, 6, 10, 2, 5, 9, 3, 7]\n",
            "[4]\n",
            "output: [1, 3, 6, 10, 2, 5, 9, 3, 7, 4]\n"
          ],
          "name": "stdout"
        },
        {
          "output_type": "execute_result",
          "data": {
            "text/plain": [
              "10"
            ]
          },
          "metadata": {
            "tags": []
          },
          "execution_count": 59
        }
      ]
    },
    {
      "cell_type": "markdown",
      "metadata": {
        "id": "UREe_CUmp4G-",
        "colab_type": "text"
      },
      "source": [
        "## Junk - below"
      ]
    },
    {
      "cell_type": "code",
      "metadata": {
        "id": "18D7b_M_d9Pe",
        "colab_type": "code",
        "colab": {}
      },
      "source": [
        "class Solution:\n",
        "    def maxSubArray(self, nums) -> int:\n",
        "      temp_list = []\n",
        "      sum_list = []\n",
        "\n",
        "      #for e in nums:\n",
        "        #print(e)\n",
        "        #temp_list.append(e)\n",
        "        #print(sum(temp_list))\n",
        "\n",
        "      for i in range(len(nums)):\n",
        "        print(f'index {i}')\n",
        "        print(sum(nums[:i]))\n",
        "        #sum_list.append(sum(nums[:i]))\n",
        "        #print(sum_list)\n",
        "\n",
        "      return 111\n",
        "       "
      ],
      "execution_count": 0,
      "outputs": []
    },
    {
      "cell_type": "code",
      "metadata": {
        "id": "h8hIkCP7lXgh",
        "colab_type": "code",
        "colab": {
          "base_uri": "https://localhost:8080/",
          "height": 34
        },
        "outputId": "348e1fef-a8ff-4574-a008-cfd6ca2111cc"
      },
      "source": [
        "len(input_list)"
      ],
      "execution_count": 37,
      "outputs": [
        {
          "output_type": "execute_result",
          "data": {
            "text/plain": [
              "9"
            ]
          },
          "metadata": {
            "tags": []
          },
          "execution_count": 37
        }
      ]
    },
    {
      "cell_type": "code",
      "metadata": {
        "id": "tEZrvfvsleBy",
        "colab_type": "code",
        "colab": {
          "base_uri": "https://localhost:8080/",
          "height": 176
        },
        "outputId": "75c0c9a5-ecfa-4432-9683-e9fc2b8b74ff"
      },
      "source": [
        "for i in range(9):\n",
        "  print(i)"
      ],
      "execution_count": 40,
      "outputs": [
        {
          "output_type": "stream",
          "text": [
            "0\n",
            "1\n",
            "2\n",
            "3\n",
            "4\n",
            "5\n",
            "6\n",
            "7\n",
            "8\n"
          ],
          "name": "stdout"
        }
      ]
    },
    {
      "cell_type": "code",
      "metadata": {
        "id": "2KCZjNMSfPyF",
        "colab_type": "code",
        "colab": {
          "base_uri": "https://localhost:8080/",
          "height": 390
        },
        "outputId": "dc3e6bf1-94e7-4a83-c77d-85117727ec04"
      },
      "source": [
        "output_list = []\n",
        "len_list = len(input_list)\n",
        "for i in range(len_list):\n",
        "  for j in range(len_list):\n",
        "    #print(f'i:{i} j:{j}')\n",
        "    if(j>=i):\n",
        "      print(input_list[i:j+1])\n",
        "      output_list.append(sum(input_list[i:j+1]))\n",
        "      print(f'output: {output_list}')\n",
        "\n",
        "\n",
        "max(output_list)\n",
        "  #print(sum(input_list[:i+1]))"
      ],
      "execution_count": 56,
      "outputs": [
        {
          "output_type": "stream",
          "text": [
            "[1]\n",
            "output: [1]\n",
            "[1, 2]\n",
            "output: [1, 3]\n",
            "[1, 2, 3]\n",
            "output: [1, 3, 6]\n",
            "[1, 2, 3, 4]\n",
            "output: [1, 3, 6, 10]\n",
            "[2]\n",
            "output: [1, 3, 6, 10, 2]\n",
            "[2, 3]\n",
            "output: [1, 3, 6, 10, 2, 5]\n",
            "[2, 3, 4]\n",
            "output: [1, 3, 6, 10, 2, 5, 9]\n",
            "[3]\n",
            "output: [1, 3, 6, 10, 2, 5, 9, 3]\n",
            "[3, 4]\n",
            "output: [1, 3, 6, 10, 2, 5, 9, 3, 7]\n",
            "[4]\n",
            "output: [1, 3, 6, 10, 2, 5, 9, 3, 7, 4]\n"
          ],
          "name": "stdout"
        },
        {
          "output_type": "execute_result",
          "data": {
            "text/plain": [
              "10"
            ]
          },
          "metadata": {
            "tags": []
          },
          "execution_count": 56
        }
      ]
    },
    {
      "cell_type": "code",
      "metadata": {
        "id": "0Ti2CJhHeGF_",
        "colab_type": "code",
        "colab": {}
      },
      "source": [
        "s = Solution()"
      ],
      "execution_count": 0,
      "outputs": []
    },
    {
      "cell_type": "code",
      "metadata": {
        "id": "9nnkXMUSeL3E",
        "colab_type": "code",
        "colab": {
          "base_uri": "https://localhost:8080/",
          "height": 194
        },
        "outputId": "1f9f63bb-1f45-448a-f601-b41192c0f5eb"
      },
      "source": [
        "s.maxSubArray(input_list)"
      ],
      "execution_count": 31,
      "outputs": [
        {
          "output_type": "stream",
          "text": [
            "index 0\n",
            "index 1\n",
            "index 2\n",
            "index 3\n",
            "index 4\n",
            "index 5\n",
            "index 6\n",
            "index 7\n",
            "index 8\n"
          ],
          "name": "stdout"
        },
        {
          "output_type": "execute_result",
          "data": {
            "text/plain": [
              "111"
            ]
          },
          "metadata": {
            "tags": []
          },
          "execution_count": 31
        }
      ]
    },
    {
      "cell_type": "code",
      "metadata": {
        "id": "n9q2FpEgeOLe",
        "colab_type": "code",
        "colab": {}
      },
      "source": [
        " #sum_list.append(sum(temp_list.append(e)))\n",
        "        #print(f'sum: {sum_list}')"
      ],
      "execution_count": 0,
      "outputs": []
    }
  ]
}