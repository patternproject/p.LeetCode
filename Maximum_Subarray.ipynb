{
  "nbformat": 4,
  "nbformat_minor": 0,
  "metadata": {
    "colab": {
      "name": "Maximum Subarray.ipynb",
      "provenance": [],
      "authorship_tag": "ABX9TyOnalbAArALQJG9/LFdc5U/",
      "include_colab_link": true
    },
    "kernelspec": {
      "name": "python3",
      "display_name": "Python 3"
    }
  },
  "cells": [
    {
      "cell_type": "markdown",
      "metadata": {
        "id": "view-in-github",
        "colab_type": "text"
      },
      "source": [
        "<a href=\"https://colab.research.google.com/github/patternproject/p.LeetCode/blob/master/Maximum_Subarray.ipynb\" target=\"_parent\"><img src=\"https://colab.research.google.com/assets/colab-badge.svg\" alt=\"Open In Colab\"/></a>"
      ]
    },
    {
      "cell_type": "markdown",
      "metadata": {
        "id": "vkvumBZ1okt_",
        "colab_type": "text"
      },
      "source": [
        "# LeetCode "
      ]
    },
    {
      "cell_type": "markdown",
      "metadata": {
        "id": "5tUvN2DQokOF",
        "colab_type": "text"
      },
      "source": [
        "## Maximum Subarray"
      ]
    },
    {
      "cell_type": "markdown",
      "metadata": {
        "id": "koFzVfixowj1",
        "colab_type": "text"
      },
      "source": [
        "Given an integer array nums, find the contiguous subarray (containing at least one number) which has the largest sum and return its sum.\n",
        "\n",
        "Example:\n",
        "\n",
        "Input: [-2,1,-3,4,-1,2,1,-5,4],\n",
        "Output: 6\n",
        "Explanation: [4,-1,2,1] has the largest sum = 6.\n",
        "Follow up:\n",
        "\n",
        "If you have figured out the O(n) solution, try coding another solution using the divide and conquer approach, which is more subtle."
      ]
    },
    {
      "cell_type": "markdown",
      "metadata": {
        "id": "27y-3iJVo6Os",
        "colab_type": "text"
      },
      "source": [
        "## Revision History\n",
        "\n",
        "* v1: First Attempt \n",
        "* v2: Interesting to note that to print non-empty contiguous subset you need to use if statement)\n",
        "* v3: Working version - before clean up\n",
        "* v4: Cleaned up "
      ]
    },
    {
      "cell_type": "code",
      "metadata": {
        "id": "Cb8wjVI2duCr",
        "colab_type": "code",
        "colab": {}
      },
      "source": [
        "#input_list = [1,2,3,4]\n",
        "\n",
        "input_list = [-2,1,-3,4,-1,2,1,-5,4]"
      ],
      "execution_count": 0,
      "outputs": []
    },
    {
      "cell_type": "code",
      "metadata": {
        "id": "DgvN79vip3AO",
        "colab_type": "code",
        "colab": {}
      },
      "source": [
        "class Solution:\n",
        "    def maxSubArray(self, nums) -> int:\n",
        "      output_list = []\n",
        "      len_list = len(input_list)\n",
        "      for i in range(len_list):\n",
        "        for j in range(len_list):\n",
        "          #print(f'i:{i} j:{j}')\n",
        "          if(j>=i):\n",
        "            print(input_list[i:j+1])\n",
        "            output_list.append(sum(input_list[i:j+1]))\n",
        "            print(f'output: {output_list}')\n",
        "      \n",
        "      return (max(output_list))\n",
        "    "
      ],
      "execution_count": 0,
      "outputs": []
    },
    {
      "cell_type": "code",
      "metadata": {
        "id": "WndnkxhCqS-e",
        "colab_type": "code",
        "colab": {}
      },
      "source": [
        "s = Solution()"
      ],
      "execution_count": 0,
      "outputs": []
    },
    {
      "cell_type": "code",
      "metadata": {
        "id": "c8CaPvbIqVaI",
        "colab_type": "code",
        "colab": {
          "base_uri": "https://localhost:8080/",
          "height": 1000
        },
        "outputId": "154a52ea-729c-432a-9f42-a9fb06104e39"
      },
      "source": [
        "s.maxSubArray(input_list)"
      ],
      "execution_count": 62,
      "outputs": [
        {
          "output_type": "stream",
          "text": [
            "[-2]\n",
            "output: [-2]\n",
            "[-2, 1]\n",
            "output: [-2, -1]\n",
            "[-2, 1, -3]\n",
            "output: [-2, -1, -4]\n",
            "[-2, 1, -3, 4]\n",
            "output: [-2, -1, -4, 0]\n",
            "[-2, 1, -3, 4, -1]\n",
            "output: [-2, -1, -4, 0, -1]\n",
            "[-2, 1, -3, 4, -1, 2]\n",
            "output: [-2, -1, -4, 0, -1, 1]\n",
            "[-2, 1, -3, 4, -1, 2, 1]\n",
            "output: [-2, -1, -4, 0, -1, 1, 2]\n",
            "[-2, 1, -3, 4, -1, 2, 1, -5]\n",
            "output: [-2, -1, -4, 0, -1, 1, 2, -3]\n",
            "[-2, 1, -3, 4, -1, 2, 1, -5, 4]\n",
            "output: [-2, -1, -4, 0, -1, 1, 2, -3, 1]\n",
            "[1]\n",
            "output: [-2, -1, -4, 0, -1, 1, 2, -3, 1, 1]\n",
            "[1, -3]\n",
            "output: [-2, -1, -4, 0, -1, 1, 2, -3, 1, 1, -2]\n",
            "[1, -3, 4]\n",
            "output: [-2, -1, -4, 0, -1, 1, 2, -3, 1, 1, -2, 2]\n",
            "[1, -3, 4, -1]\n",
            "output: [-2, -1, -4, 0, -1, 1, 2, -3, 1, 1, -2, 2, 1]\n",
            "[1, -3, 4, -1, 2]\n",
            "output: [-2, -1, -4, 0, -1, 1, 2, -3, 1, 1, -2, 2, 1, 3]\n",
            "[1, -3, 4, -1, 2, 1]\n",
            "output: [-2, -1, -4, 0, -1, 1, 2, -3, 1, 1, -2, 2, 1, 3, 4]\n",
            "[1, -3, 4, -1, 2, 1, -5]\n",
            "output: [-2, -1, -4, 0, -1, 1, 2, -3, 1, 1, -2, 2, 1, 3, 4, -1]\n",
            "[1, -3, 4, -1, 2, 1, -5, 4]\n",
            "output: [-2, -1, -4, 0, -1, 1, 2, -3, 1, 1, -2, 2, 1, 3, 4, -1, 3]\n",
            "[-3]\n",
            "output: [-2, -1, -4, 0, -1, 1, 2, -3, 1, 1, -2, 2, 1, 3, 4, -1, 3, -3]\n",
            "[-3, 4]\n",
            "output: [-2, -1, -4, 0, -1, 1, 2, -3, 1, 1, -2, 2, 1, 3, 4, -1, 3, -3, 1]\n",
            "[-3, 4, -1]\n",
            "output: [-2, -1, -4, 0, -1, 1, 2, -3, 1, 1, -2, 2, 1, 3, 4, -1, 3, -3, 1, 0]\n",
            "[-3, 4, -1, 2]\n",
            "output: [-2, -1, -4, 0, -1, 1, 2, -3, 1, 1, -2, 2, 1, 3, 4, -1, 3, -3, 1, 0, 2]\n",
            "[-3, 4, -1, 2, 1]\n",
            "output: [-2, -1, -4, 0, -1, 1, 2, -3, 1, 1, -2, 2, 1, 3, 4, -1, 3, -3, 1, 0, 2, 3]\n",
            "[-3, 4, -1, 2, 1, -5]\n",
            "output: [-2, -1, -4, 0, -1, 1, 2, -3, 1, 1, -2, 2, 1, 3, 4, -1, 3, -3, 1, 0, 2, 3, -2]\n",
            "[-3, 4, -1, 2, 1, -5, 4]\n",
            "output: [-2, -1, -4, 0, -1, 1, 2, -3, 1, 1, -2, 2, 1, 3, 4, -1, 3, -3, 1, 0, 2, 3, -2, 2]\n",
            "[4]\n",
            "output: [-2, -1, -4, 0, -1, 1, 2, -3, 1, 1, -2, 2, 1, 3, 4, -1, 3, -3, 1, 0, 2, 3, -2, 2, 4]\n",
            "[4, -1]\n",
            "output: [-2, -1, -4, 0, -1, 1, 2, -3, 1, 1, -2, 2, 1, 3, 4, -1, 3, -3, 1, 0, 2, 3, -2, 2, 4, 3]\n",
            "[4, -1, 2]\n",
            "output: [-2, -1, -4, 0, -1, 1, 2, -3, 1, 1, -2, 2, 1, 3, 4, -1, 3, -3, 1, 0, 2, 3, -2, 2, 4, 3, 5]\n",
            "[4, -1, 2, 1]\n",
            "output: [-2, -1, -4, 0, -1, 1, 2, -3, 1, 1, -2, 2, 1, 3, 4, -1, 3, -3, 1, 0, 2, 3, -2, 2, 4, 3, 5, 6]\n",
            "[4, -1, 2, 1, -5]\n",
            "output: [-2, -1, -4, 0, -1, 1, 2, -3, 1, 1, -2, 2, 1, 3, 4, -1, 3, -3, 1, 0, 2, 3, -2, 2, 4, 3, 5, 6, 1]\n",
            "[4, -1, 2, 1, -5, 4]\n",
            "output: [-2, -1, -4, 0, -1, 1, 2, -3, 1, 1, -2, 2, 1, 3, 4, -1, 3, -3, 1, 0, 2, 3, -2, 2, 4, 3, 5, 6, 1, 5]\n",
            "[-1]\n",
            "output: [-2, -1, -4, 0, -1, 1, 2, -3, 1, 1, -2, 2, 1, 3, 4, -1, 3, -3, 1, 0, 2, 3, -2, 2, 4, 3, 5, 6, 1, 5, -1]\n",
            "[-1, 2]\n",
            "output: [-2, -1, -4, 0, -1, 1, 2, -3, 1, 1, -2, 2, 1, 3, 4, -1, 3, -3, 1, 0, 2, 3, -2, 2, 4, 3, 5, 6, 1, 5, -1, 1]\n",
            "[-1, 2, 1]\n",
            "output: [-2, -1, -4, 0, -1, 1, 2, -3, 1, 1, -2, 2, 1, 3, 4, -1, 3, -3, 1, 0, 2, 3, -2, 2, 4, 3, 5, 6, 1, 5, -1, 1, 2]\n",
            "[-1, 2, 1, -5]\n",
            "output: [-2, -1, -4, 0, -1, 1, 2, -3, 1, 1, -2, 2, 1, 3, 4, -1, 3, -3, 1, 0, 2, 3, -2, 2, 4, 3, 5, 6, 1, 5, -1, 1, 2, -3]\n",
            "[-1, 2, 1, -5, 4]\n",
            "output: [-2, -1, -4, 0, -1, 1, 2, -3, 1, 1, -2, 2, 1, 3, 4, -1, 3, -3, 1, 0, 2, 3, -2, 2, 4, 3, 5, 6, 1, 5, -1, 1, 2, -3, 1]\n",
            "[2]\n",
            "output: [-2, -1, -4, 0, -1, 1, 2, -3, 1, 1, -2, 2, 1, 3, 4, -1, 3, -3, 1, 0, 2, 3, -2, 2, 4, 3, 5, 6, 1, 5, -1, 1, 2, -3, 1, 2]\n",
            "[2, 1]\n",
            "output: [-2, -1, -4, 0, -1, 1, 2, -3, 1, 1, -2, 2, 1, 3, 4, -1, 3, -3, 1, 0, 2, 3, -2, 2, 4, 3, 5, 6, 1, 5, -1, 1, 2, -3, 1, 2, 3]\n",
            "[2, 1, -5]\n",
            "output: [-2, -1, -4, 0, -1, 1, 2, -3, 1, 1, -2, 2, 1, 3, 4, -1, 3, -3, 1, 0, 2, 3, -2, 2, 4, 3, 5, 6, 1, 5, -1, 1, 2, -3, 1, 2, 3, -2]\n",
            "[2, 1, -5, 4]\n",
            "output: [-2, -1, -4, 0, -1, 1, 2, -3, 1, 1, -2, 2, 1, 3, 4, -1, 3, -3, 1, 0, 2, 3, -2, 2, 4, 3, 5, 6, 1, 5, -1, 1, 2, -3, 1, 2, 3, -2, 2]\n",
            "[1]\n",
            "output: [-2, -1, -4, 0, -1, 1, 2, -3, 1, 1, -2, 2, 1, 3, 4, -1, 3, -3, 1, 0, 2, 3, -2, 2, 4, 3, 5, 6, 1, 5, -1, 1, 2, -3, 1, 2, 3, -2, 2, 1]\n",
            "[1, -5]\n",
            "output: [-2, -1, -4, 0, -1, 1, 2, -3, 1, 1, -2, 2, 1, 3, 4, -1, 3, -3, 1, 0, 2, 3, -2, 2, 4, 3, 5, 6, 1, 5, -1, 1, 2, -3, 1, 2, 3, -2, 2, 1, -4]\n",
            "[1, -5, 4]\n",
            "output: [-2, -1, -4, 0, -1, 1, 2, -3, 1, 1, -2, 2, 1, 3, 4, -1, 3, -3, 1, 0, 2, 3, -2, 2, 4, 3, 5, 6, 1, 5, -1, 1, 2, -3, 1, 2, 3, -2, 2, 1, -4, 0]\n",
            "[-5]\n",
            "output: [-2, -1, -4, 0, -1, 1, 2, -3, 1, 1, -2, 2, 1, 3, 4, -1, 3, -3, 1, 0, 2, 3, -2, 2, 4, 3, 5, 6, 1, 5, -1, 1, 2, -3, 1, 2, 3, -2, 2, 1, -4, 0, -5]\n",
            "[-5, 4]\n",
            "output: [-2, -1, -4, 0, -1, 1, 2, -3, 1, 1, -2, 2, 1, 3, 4, -1, 3, -3, 1, 0, 2, 3, -2, 2, 4, 3, 5, 6, 1, 5, -1, 1, 2, -3, 1, 2, 3, -2, 2, 1, -4, 0, -5, -1]\n",
            "[4]\n",
            "output: [-2, -1, -4, 0, -1, 1, 2, -3, 1, 1, -2, 2, 1, 3, 4, -1, 3, -3, 1, 0, 2, 3, -2, 2, 4, 3, 5, 6, 1, 5, -1, 1, 2, -3, 1, 2, 3, -2, 2, 1, -4, 0, -5, -1, 4]\n"
          ],
          "name": "stdout"
        },
        {
          "output_type": "execute_result",
          "data": {
            "text/plain": [
              "6"
            ]
          },
          "metadata": {
            "tags": []
          },
          "execution_count": 62
        }
      ]
    }
  ]
}