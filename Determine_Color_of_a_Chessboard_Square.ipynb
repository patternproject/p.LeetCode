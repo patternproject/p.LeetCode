{
  "nbformat": 4,
  "nbformat_minor": 0,
  "metadata": {
    "colab": {
      "name": "Determine Color of a Chessboard Square.ipynb",
      "provenance": [],
      "authorship_tag": "ABX9TyNzI1F6ZfTL9205PP+vLW6p",
      "include_colab_link": true
    },
    "kernelspec": {
      "name": "python3",
      "display_name": "Python 3"
    },
    "language_info": {
      "name": "python"
    }
  },
  "cells": [
    {
      "cell_type": "markdown",
      "metadata": {
        "id": "view-in-github",
        "colab_type": "text"
      },
      "source": [
        "<a href=\"https://colab.research.google.com/github/patternproject/p.LeetCode/blob/master/Determine_Color_of_a_Chessboard_Square.ipynb\" target=\"_parent\"><img src=\"https://colab.research.google.com/assets/colab-badge.svg\" alt=\"Open In Colab\"/></a>"
      ]
    },
    {
      "cell_type": "markdown",
      "metadata": {
        "id": "05rg6wI6dRcb"
      },
      "source": [
        "# leet code \n",
        "\n",
        "5705. Determine Color of a Chessboard Square"
      ]
    },
    {
      "cell_type": "code",
      "metadata": {
        "colab": {
          "base_uri": "https://localhost:8080/",
          "height": 35
        },
        "id": "GrfsAJtgZNUX",
        "outputId": "c0dd76a0-19d7-4641-a975-48040a11a60e"
      },
      "source": [
        "input = 'h8'\n",
        "input[0]"
      ],
      "execution_count": 24,
      "outputs": [
        {
          "output_type": "execute_result",
          "data": {
            "application/vnd.google.colaboratory.intrinsic+json": {
              "type": "string"
            },
            "text/plain": [
              "'h'"
            ]
          },
          "metadata": {
            "tags": []
          },
          "execution_count": 24
        }
      ]
    },
    {
      "cell_type": "markdown",
      "metadata": {
        "id": "XQ9P3xGZZM7_"
      },
      "source": [
        ""
      ]
    },
    {
      "cell_type": "code",
      "metadata": {
        "id": "ic0FpTorUKfz"
      },
      "source": [
        "odd= [0,1,0,1,0,1,0,1,0,1]\n",
        "odd_row= ['a','c','e','g']"
      ],
      "execution_count": 27,
      "outputs": []
    },
    {
      "cell_type": "code",
      "metadata": {
        "id": "YcUiee2wVURv"
      },
      "source": [
        "partial_result = odd[int(input[1])]"
      ],
      "execution_count": 28,
      "outputs": []
    },
    {
      "cell_type": "code",
      "metadata": {
        "colab": {
          "base_uri": "https://localhost:8080/"
        },
        "id": "pH_Huk4KVpSG",
        "outputId": "23a00a32-56e8-4bec-919b-6ed3a47b5201"
      },
      "source": [
        "if(input[0] in odd_row):\n",
        "  print(not(bool(partial_result)))\n",
        "else:\n",
        "  print(bool(partial_result))"
      ],
      "execution_count": 29,
      "outputs": [
        {
          "output_type": "stream",
          "text": [
            "False\n"
          ],
          "name": "stdout"
        }
      ]
    },
    {
      "cell_type": "code",
      "metadata": {
        "id": "sxXyw1IhV8f-"
      },
      "source": [
        ""
      ],
      "execution_count": null,
      "outputs": []
    }
  ]
}