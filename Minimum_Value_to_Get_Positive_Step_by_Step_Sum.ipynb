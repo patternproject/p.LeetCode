{
  "nbformat": 4,
  "nbformat_minor": 0,
  "metadata": {
    "colab": {
      "name": "Minimum Value to Get Positive Step by Step Sum.ipynb",
      "provenance": [],
      "authorship_tag": "ABX9TyOrtuutm0D8+OhPPHGHvoK/",
      "include_colab_link": true
    },
    "kernelspec": {
      "name": "python3",
      "display_name": "Python 3"
    }
  },
  "cells": [
    {
      "cell_type": "markdown",
      "metadata": {
        "id": "view-in-github",
        "colab_type": "text"
      },
      "source": [
        "<a href=\"https://colab.research.google.com/github/patternproject/p.LeetCode/blob/master/Minimum_Value_to_Get_Positive_Step_by_Step_Sum.ipynb\" target=\"_parent\"><img src=\"https://colab.research.google.com/assets/colab-badge.svg\" alt=\"Open In Colab\"/></a>"
      ]
    },
    {
      "cell_type": "markdown",
      "metadata": {
        "id": "c0IDAySCuTQu",
        "colab_type": "text"
      },
      "source": [
        "# Leet Code"
      ]
    },
    {
      "cell_type": "markdown",
      "metadata": {
        "id": "iVZr7o81uVkc",
        "colab_type": "text"
      },
      "source": [
        "## Minimum Value to Get Positive Step by Step Sum"
      ]
    },
    {
      "cell_type": "markdown",
      "metadata": {
        "id": "TATh_HIEuYSQ",
        "colab_type": "text"
      },
      "source": [
        "Given an array of integers nums, you start with an initial positive value startValue.\n",
        "\n",
        "In each iteration, you calculate the step by step sum of startValue plus elements in nums (from left to right).\n",
        "\n",
        "Return the minimum positive value of startValue such that the step by step sum is never less than 1."
      ]
    },
    {
      "cell_type": "code",
      "metadata": {
        "id": "t1mkj14eugaT",
        "colab_type": "code",
        "colab": {}
      },
      "source": [
        "nums1 = [-3,2,-3,4,2]\n",
        "nums2 = [1,2]\n",
        "nums3 = [1,-2,-3]"
      ],
      "execution_count": 0,
      "outputs": []
    },
    {
      "cell_type": "code",
      "metadata": {
        "id": "yl9uSSouuzjs",
        "colab_type": "code",
        "colab": {}
      },
      "source": [
        "import numpy as np"
      ],
      "execution_count": 0,
      "outputs": []
    },
    {
      "cell_type": "code",
      "metadata": {
        "id": "q5wVBCadwhhU",
        "colab_type": "code",
        "colab": {}
      },
      "source": [
        "def my_fn(nums):\n",
        "  n=100\n",
        "  print(nums)\n",
        "  print('entering for')\n",
        "  for x in range(1,n):\n",
        "    nums.insert(0,x)\n",
        "    print(nums)\n",
        "    #if 0 in np.cumsum(nums):\n",
        "    temp = list(np.cumsum(nums))\n",
        "    temp.pop(0)\n",
        "    print(temp)\n",
        "    if(any(i < 1 for i in temp)):\n",
        "      print(\"in if\")\n",
        "      nums.pop(0)\n",
        "    else:\n",
        "      print(\"in else\")\n",
        "      return(x)"
      ],
      "execution_count": 0,
      "outputs": []
    },
    {
      "cell_type": "code",
      "metadata": {
        "id": "X3d6u7s2wt8R",
        "colab_type": "code",
        "colab": {
          "base_uri": "https://localhost:8080/",
          "height": 123
        },
        "outputId": "25fa1827-6561-40f5-99cd-a707f5b5df5b"
      },
      "source": [
        "ret = my_fn(nums1)\n",
        "print(ret)"
      ],
      "execution_count": 68,
      "outputs": [
        {
          "output_type": "stream",
          "text": [
            "[1, 5, -3, 2, -3, 4, 2]\n",
            "entering for\n",
            "[1, 1, 5, -3, 2, -3, 4, 2]\n",
            "[2, 7, 4, 6, 3, 7, 9]\n",
            "in else\n",
            "1\n"
          ],
          "name": "stdout"
        }
      ]
    },
    {
      "cell_type": "code",
      "metadata": {
        "id": "ParwVuXqzEmH",
        "colab_type": "code",
        "colab": {}
      },
      "source": [
        "nums6 = [10,-2,-10,-7,6,3,8]"
      ],
      "execution_count": 0,
      "outputs": []
    },
    {
      "cell_type": "code",
      "metadata": {
        "id": "EEdfUJvF5hYX",
        "colab_type": "code",
        "colab": {
          "base_uri": "https://localhost:8080/",
          "height": 603
        },
        "outputId": "53cffc24-71a8-4d94-9df7-080ee0b086cd"
      },
      "source": [
        "ret = my_fn(nums6)\n",
        "print(ret)"
      ],
      "execution_count": 70,
      "outputs": [
        {
          "output_type": "stream",
          "text": [
            "[10, -2, -10, -7, 6, 3, 8]\n",
            "entering for\n",
            "[1, 10, -2, -10, -7, 6, 3, 8]\n",
            "[11, 9, -1, -8, -2, 1, 9]\n",
            "in if\n",
            "[2, 10, -2, -10, -7, 6, 3, 8]\n",
            "[12, 10, 0, -7, -1, 2, 10]\n",
            "in if\n",
            "[3, 10, -2, -10, -7, 6, 3, 8]\n",
            "[13, 11, 1, -6, 0, 3, 11]\n",
            "in if\n",
            "[4, 10, -2, -10, -7, 6, 3, 8]\n",
            "[14, 12, 2, -5, 1, 4, 12]\n",
            "in if\n",
            "[5, 10, -2, -10, -7, 6, 3, 8]\n",
            "[15, 13, 3, -4, 2, 5, 13]\n",
            "in if\n",
            "[6, 10, -2, -10, -7, 6, 3, 8]\n",
            "[16, 14, 4, -3, 3, 6, 14]\n",
            "in if\n",
            "[7, 10, -2, -10, -7, 6, 3, 8]\n",
            "[17, 15, 5, -2, 4, 7, 15]\n",
            "in if\n",
            "[8, 10, -2, -10, -7, 6, 3, 8]\n",
            "[18, 16, 6, -1, 5, 8, 16]\n",
            "in if\n",
            "[9, 10, -2, -10, -7, 6, 3, 8]\n",
            "[19, 17, 7, 0, 6, 9, 17]\n",
            "in if\n",
            "[10, 10, -2, -10, -7, 6, 3, 8]\n",
            "[20, 18, 8, 1, 7, 10, 18]\n",
            "in else\n",
            "10\n"
          ],
          "name": "stdout"
        }
      ]
    },
    {
      "cell_type": "code",
      "metadata": {
        "id": "aOSbgovL5iwb",
        "colab_type": "code",
        "colab": {}
      },
      "source": [
        ""
      ],
      "execution_count": 0,
      "outputs": []
    }
  ]
}