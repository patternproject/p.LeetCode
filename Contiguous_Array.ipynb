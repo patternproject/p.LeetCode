{
  "nbformat": 4,
  "nbformat_minor": 0,
  "metadata": {
    "colab": {
      "name": "Contiguous Array.ipynb",
      "provenance": [],
      "authorship_tag": "ABX9TyMhgHcGSD98I9UPX3skprJg",
      "include_colab_link": true
    },
    "kernelspec": {
      "name": "python3",
      "display_name": "Python 3"
    }
  },
  "cells": [
    {
      "cell_type": "markdown",
      "metadata": {
        "id": "view-in-github",
        "colab_type": "text"
      },
      "source": [
        "<a href=\"https://colab.research.google.com/github/patternproject/p.LeetCode/blob/master/Contiguous_Array.ipynb\" target=\"_parent\"><img src=\"https://colab.research.google.com/assets/colab-badge.svg\" alt=\"Open In Colab\"/></a>"
      ]
    },
    {
      "cell_type": "markdown",
      "metadata": {
        "id": "_bVx4Q5rnJao",
        "colab_type": "text"
      },
      "source": [
        "# Leet Code"
      ]
    },
    {
      "cell_type": "markdown",
      "metadata": {
        "id": "RcwvoLbonNAt",
        "colab_type": "text"
      },
      "source": [
        "## Contiguous Array\n"
      ]
    },
    {
      "cell_type": "markdown",
      "metadata": {
        "id": "YVdTDIVRnO84",
        "colab_type": "text"
      },
      "source": [
        "Given a binary array, find the maximum length of a contiguous subarray with equal number of 0 and 1.\n",
        "\n",
        "Example 1:\n",
        "Input: [0,1]\n",
        "Output: 2\n",
        "Explanation: [0, 1] is the longest contiguous subarray with equal number of 0 and 1."
      ]
    },
    {
      "cell_type": "code",
      "metadata": {
        "id": "FWxQWkztnljF",
        "colab_type": "code",
        "colab": {}
      },
      "source": [
        "# test input\n",
        "#nums = [0,1] # passes\n",
        "#nums = [0,1,0] # passes\n",
        "# nums = [0,1,1] # passes\n",
        "nums = [0,0,1,0,0,0,1,1]"
      ],
      "execution_count": 0,
      "outputs": []
    },
    {
      "cell_type": "code",
      "metadata": {
        "id": "hpmWBQNbMDzT",
        "colab_type": "code",
        "colab": {
          "base_uri": "https://localhost:8080/",
          "height": 34
        },
        "outputId": "00697621-77e8-4bc3-a58f-f5f8c9e73ee6"
      },
      "source": [
        "nums[::-1]"
      ],
      "execution_count": 28,
      "outputs": [
        {
          "output_type": "execute_result",
          "data": {
            "text/plain": [
              "[1, 1, 0]"
            ]
          },
          "metadata": {
            "tags": []
          },
          "execution_count": 28
        }
      ]
    },
    {
      "cell_type": "code",
      "metadata": {
        "id": "jm0nhBPhQLta",
        "colab_type": "code",
        "colab": {
          "base_uri": "https://localhost:8080/",
          "height": 34
        },
        "outputId": "b9cac9bd-d804-4b4f-c898-01dfab36532e"
      },
      "source": [
        "nums.count(0)"
      ],
      "execution_count": 41,
      "outputs": [
        {
          "output_type": "execute_result",
          "data": {
            "text/plain": [
              "5"
            ]
          },
          "metadata": {
            "tags": []
          },
          "execution_count": 41
        }
      ]
    },
    {
      "cell_type": "code",
      "metadata": {
        "id": "XF_62AqwnMWU",
        "colab_type": "code",
        "colab": {}
      },
      "source": [
        "class Solution:\n",
        "  def findMaxLength1(self, nums) -> int:\n",
        "    counter = 1\n",
        "    len_list = len(nums)\n",
        "\n",
        "    for i in range(len_list-1):\n",
        "      #print(i)\n",
        "      '''\n",
        "      if (i == len_list-1):\n",
        "        print(f\"breaking out\")\n",
        "        break\n",
        "      '''  \n",
        "\n",
        "      if (nums[i] == nums[i+1]):\n",
        "        counter = 0\n",
        "        \n",
        "      else:\n",
        "        counter +=1\n",
        "        print(f'{counter}')\n",
        "\n",
        "    return(counter)"
      ],
      "execution_count": 0,
      "outputs": []
    },
    {
      "cell_type": "code",
      "metadata": {
        "id": "WNVK97-Jnk6W",
        "colab_type": "code",
        "colab": {}
      },
      "source": [
        "s = Solution()"
      ],
      "execution_count": 0,
      "outputs": []
    },
    {
      "cell_type": "code",
      "metadata": {
        "id": "7MK6NDbenqFB",
        "colab_type": "code",
        "colab": {
          "base_uri": "https://localhost:8080/",
          "height": 70
        },
        "outputId": "88dde18c-09c8-449c-c0bc-02606d83d6e9"
      },
      "source": [
        "ret_val = s.findMaxLength1(nums)\n",
        "print(f'returned: {ret_val}')"
      ],
      "execution_count": 37,
      "outputs": [
        {
          "output_type": "stream",
          "text": [
            "2\n",
            "3\n",
            "returned: 3\n"
          ],
          "name": "stdout"
        }
      ]
    },
    {
      "cell_type": "code",
      "metadata": {
        "id": "zZj6ZW1unrpl",
        "colab_type": "code",
        "colab": {}
      },
      "source": [
        "class Solution:\n",
        "  def findMaxLength(self, nums) -> int:\n",
        "    i_nums = 0\n",
        "    i_dup = 0\n",
        "    dup_list = nums.copy()\n",
        "\n",
        "    # we are looking at even chunks of the original seq with equal number of ZERO and ONE\n",
        "    for e in nums:\n",
        "      print(f\"in normal loop\")\n",
        "      print(e)\n",
        "      \n",
        "      # invariant\n",
        "      if(nums.count(0) == nums.count(1)):\n",
        "        i_nums = len(nums)\n",
        "      else:\n",
        "        nums.pop(e)\n",
        "    \n",
        "    # reversing it\n",
        "    dup_list = dup_list[::-1]\n",
        "\n",
        "    for e in dup_list:\n",
        "      print(f\"in reverse loop\")\n",
        "      print(e)\n",
        "      # invariant\n",
        "      if(dup_list.count(0) == dup_list.count(1)):\n",
        "        i_dup = len(dup_list)\n",
        "      else:\n",
        "        dup_list.pop(e)\n",
        "\n",
        "    print(f'i_nums:{i_nums}')\n",
        "    print(f'i_dup:{i_dup}')\n",
        "    if(i_nums >= i_dup):\n",
        "      return(i_nums)\n",
        "    else:\n",
        "      return(i_dup)"
      ],
      "execution_count": 0,
      "outputs": []
    },
    {
      "cell_type": "code",
      "metadata": {
        "id": "tJiOMk4CIw_1",
        "colab_type": "code",
        "colab": {}
      },
      "source": [
        "s = Solution()"
      ],
      "execution_count": 0,
      "outputs": []
    },
    {
      "cell_type": "code",
      "metadata": {
        "id": "2lvb3vMrIyme",
        "colab_type": "code",
        "colab": {
          "base_uri": "https://localhost:8080/",
          "height": 354
        },
        "outputId": "16f89869-1323-40bd-8a98-ce4f64397521"
      },
      "source": [
        "s.findMaxLength(nums)"
      ],
      "execution_count": 38,
      "outputs": [
        {
          "output_type": "stream",
          "text": [
            "in normal loop\n",
            "0\n",
            "in normal loop\n",
            "1\n",
            "in normal loop\n",
            "0\n",
            "in normal loop\n",
            "1\n",
            "in reverse loop\n",
            "1\n",
            "in reverse loop\n",
            "0\n",
            "in reverse loop\n",
            "0\n",
            "in reverse loop\n",
            "0\n",
            "i_nums:0\n",
            "i_dup:0\n"
          ],
          "name": "stdout"
        },
        {
          "output_type": "execute_result",
          "data": {
            "text/plain": [
              "0"
            ]
          },
          "metadata": {
            "tags": []
          },
          "execution_count": 38
        }
      ]
    },
    {
      "cell_type": "code",
      "metadata": {
        "id": "LZq61WYLRejv",
        "colab_type": "code",
        "colab": {}
      },
      "source": [
        "# test input\n",
        "#nums = [0,1] # passes\n",
        "#nums = [0,1,0] # passes\n",
        "# nums = [0,1,1] # passes\n",
        "nums = [0,0,1,0,0,0,1,1]"
      ],
      "execution_count": 0,
      "outputs": []
    },
    {
      "cell_type": "code",
      "metadata": {
        "id": "xbMLg7VEIzv5",
        "colab_type": "code",
        "colab": {}
      },
      "source": [
        "class Solution:\n",
        "  def findMaxLength(self, nums) -> int:\n",
        "    i_nums = 0\n",
        "    i_dup = 0\n",
        "    dup_list = nums.copy()\n",
        "    print(nums)\n",
        "\n",
        "    # we are looking at even chunks of the original seq with equal number of ZERO and ONE\n",
        "    for e in dup_list:\n",
        "      print(f\"in normal loop\")\n",
        "    \n",
        "      print(e)\n",
        "      \n",
        "      # invariant\n",
        "      if(nums.count(0) == nums.count(1)):\n",
        "        return(len(nums))\n",
        "      else:\n",
        "        dup_list.pop(e)\n",
        "        print(nums)\n",
        "    #return(i_nums)"
      ],
      "execution_count": 0,
      "outputs": []
    },
    {
      "cell_type": "code",
      "metadata": {
        "id": "CvlvOmfsQqQ6",
        "colab_type": "code",
        "colab": {}
      },
      "source": [
        "s = Solution()"
      ],
      "execution_count": 0,
      "outputs": []
    },
    {
      "cell_type": "code",
      "metadata": {
        "id": "n7RwBpBdQtxc",
        "colab_type": "code",
        "colab": {
          "base_uri": "https://localhost:8080/",
          "height": 247
        },
        "outputId": "b31661d4-2949-4e8e-f355-e91c096f0f8a"
      },
      "source": [
        "s.findMaxLength(nums)"
      ],
      "execution_count": 70,
      "outputs": [
        {
          "output_type": "stream",
          "text": [
            "[0, 0, 1, 0, 0, 0, 1, 1]\n",
            "in normal loop\n",
            "0\n",
            "[0, 1, 0, 0, 0, 1, 1]\n",
            "in normal loop\n",
            "1\n",
            "[0, 0, 0, 0, 1, 1]\n",
            "in normal loop\n",
            "0\n",
            "[0, 0, 0, 1, 1]\n",
            "in normal loop\n",
            "1\n",
            "[0, 0, 1, 1]\n"
          ],
          "name": "stdout"
        }
      ]
    },
    {
      "cell_type": "code",
      "metadata": {
        "id": "HJ2ZY0wBZyxX",
        "colab_type": "code",
        "colab": {}
      },
      "source": [
        "nums=[0,1,1]"
      ],
      "execution_count": 0,
      "outputs": []
    },
    {
      "cell_type": "code",
      "metadata": {
        "id": "DEcdDkUFQwKG",
        "colab_type": "code",
        "colab": {}
      },
      "source": [
        "class Solution:\n",
        "  def findMaxLength(self, nums) -> int:\n",
        "    i_nums = 0\n",
        "    i_rem = 0\n",
        "    \n",
        "    print(nums)\n",
        "\n",
        "    # we are looking at even chunks of the original seq with equal number of ZERO and ONE\n",
        "    for i in range(len(nums)+i_rem):\n",
        "      print(f\"in normal loop\")\n",
        "    \n",
        "      print(i)\n",
        "      \n",
        "      # invariant\n",
        "      if(nums.count(0) == nums.count(1)):\n",
        "        return(len(nums))\n",
        "      else:\n",
        "        nums.pop(i-i_rem)\n",
        "        i_rem += 1\n",
        "        print(nums)\n",
        "    #return(i_nums)"
      ],
      "execution_count": 0,
      "outputs": []
    },
    {
      "cell_type": "code",
      "metadata": {
        "id": "hHS249YST-lV",
        "colab_type": "code",
        "colab": {}
      },
      "source": [
        "s = Solution()"
      ],
      "execution_count": 0,
      "outputs": []
    },
    {
      "cell_type": "code",
      "metadata": {
        "id": "-aWu-RiHUBZU",
        "colab_type": "code",
        "colab": {
          "base_uri": "https://localhost:8080/",
          "height": 194
        },
        "outputId": "418d6c00-ab00-4e7f-ca29-a677b4cbfd31"
      },
      "source": [
        "s.findMaxLength(nums)"
      ],
      "execution_count": 85,
      "outputs": [
        {
          "output_type": "stream",
          "text": [
            "[0, 1, 1]\n",
            "in normal loop\n",
            "0\n",
            "[1, 1]\n",
            "in normal loop\n",
            "1\n",
            "[1]\n",
            "in normal loop\n",
            "2\n",
            "[]\n"
          ],
          "name": "stdout"
        }
      ]
    },
    {
      "cell_type": "code",
      "metadata": {
        "id": "NKQj7KsPUDHn",
        "colab_type": "code",
        "colab": {}
      },
      "source": [
        "# more complex than above code\n",
        "# have a look here:\n",
        "# https://github.com/anantkaushik/leetcode/blob/master/525-contiguous-array.py\n",
        "# or\n",
        "# https://www.youtube.com/watch?v=VM5Mh3-UFPg"
      ],
      "execution_count": 0,
      "outputs": []
    }
  ]
}