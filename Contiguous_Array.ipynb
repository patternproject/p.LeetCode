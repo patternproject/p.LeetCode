{
  "nbformat": 4,
  "nbformat_minor": 0,
  "metadata": {
    "colab": {
      "name": "Contiguous Array.ipynb",
      "provenance": [],
      "authorship_tag": "ABX9TyNrNj4o71kejHgI1fQJwxCD",
      "include_colab_link": true
    },
    "kernelspec": {
      "name": "python3",
      "display_name": "Python 3"
    }
  },
  "cells": [
    {
      "cell_type": "markdown",
      "metadata": {
        "id": "view-in-github",
        "colab_type": "text"
      },
      "source": [
        "<a href=\"https://colab.research.google.com/github/patternproject/p.LeetCode/blob/master/Contiguous_Array.ipynb\" target=\"_parent\"><img src=\"https://colab.research.google.com/assets/colab-badge.svg\" alt=\"Open In Colab\"/></a>"
      ]
    },
    {
      "cell_type": "markdown",
      "metadata": {
        "id": "_bVx4Q5rnJao",
        "colab_type": "text"
      },
      "source": [
        "# Leet Code"
      ]
    },
    {
      "cell_type": "markdown",
      "metadata": {
        "id": "RcwvoLbonNAt",
        "colab_type": "text"
      },
      "source": [
        "## Contiguous Array\n"
      ]
    },
    {
      "cell_type": "markdown",
      "metadata": {
        "id": "YVdTDIVRnO84",
        "colab_type": "text"
      },
      "source": [
        "Given a binary array, find the maximum length of a contiguous subarray with equal number of 0 and 1.\n",
        "\n",
        "Example 1:\n",
        "Input: [0,1]\n",
        "Output: 2\n",
        "Explanation: [0, 1] is the longest contiguous subarray with equal number of 0 and 1."
      ]
    },
    {
      "cell_type": "code",
      "metadata": {
        "id": "FWxQWkztnljF",
        "colab_type": "code",
        "colab": {}
      },
      "source": [
        "# test input\n",
        "nums = [0,1]"
      ],
      "execution_count": 0,
      "outputs": []
    },
    {
      "cell_type": "code",
      "metadata": {
        "id": "XF_62AqwnMWU",
        "colab_type": "code",
        "colab": {}
      },
      "source": [
        "class Solution:\n",
        "  def findMaxLength(self, nums) -> int:\n",
        "    counter = 1\n",
        "    len_list = len(nums)\n",
        "\n",
        "    for i in range(len_list):\n",
        "      #print(i)\n",
        "      if (i == len_list-1):\n",
        "        print(f\"breaking out\")\n",
        "        break\n",
        "\n",
        "      if (nums[i] == nums[i+1]):\n",
        "        counter = 0\n",
        "        \n",
        "      else:\n",
        "        counter +=1\n",
        "        print(f'{counter}')\n",
        "\n",
        "    return(counter)"
      ],
      "execution_count": 0,
      "outputs": []
    },
    {
      "cell_type": "code",
      "metadata": {
        "id": "WNVK97-Jnk6W",
        "colab_type": "code",
        "colab": {}
      },
      "source": [
        "s = Solution()"
      ],
      "execution_count": 0,
      "outputs": []
    },
    {
      "cell_type": "code",
      "metadata": {
        "id": "7MK6NDbenqFB",
        "colab_type": "code",
        "colab": {
          "base_uri": "https://localhost:8080/",
          "height": 70
        },
        "outputId": "43720d87-50bc-4ddd-cf7b-f562c6f878ec"
      },
      "source": [
        "s.findMaxLength(nums)"
      ],
      "execution_count": 28,
      "outputs": [
        {
          "output_type": "stream",
          "text": [
            "2\n",
            "breaking out\n"
          ],
          "name": "stdout"
        },
        {
          "output_type": "execute_result",
          "data": {
            "text/plain": [
              "2"
            ]
          },
          "metadata": {
            "tags": []
          },
          "execution_count": 28
        }
      ]
    },
    {
      "cell_type": "code",
      "metadata": {
        "id": "zZj6ZW1unrpl",
        "colab_type": "code",
        "colab": {}
      },
      "source": [
        ""
      ],
      "execution_count": 0,
      "outputs": []
    }
  ]
}