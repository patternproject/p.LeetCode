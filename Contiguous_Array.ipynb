{
  "nbformat": 4,
  "nbformat_minor": 0,
  "metadata": {
    "colab": {
      "name": "Contiguous Array.ipynb",
      "provenance": [],
      "authorship_tag": "ABX9TyNWom/ht6/hYX6qGmA58zFC",
      "include_colab_link": true
    },
    "kernelspec": {
      "name": "python3",
      "display_name": "Python 3"
    }
  },
  "cells": [
    {
      "cell_type": "markdown",
      "metadata": {
        "id": "view-in-github",
        "colab_type": "text"
      },
      "source": [
        "<a href=\"https://colab.research.google.com/github/patternproject/p.LeetCode/blob/master/Contiguous_Array.ipynb\" target=\"_parent\"><img src=\"https://colab.research.google.com/assets/colab-badge.svg\" alt=\"Open In Colab\"/></a>"
      ]
    },
    {
      "cell_type": "markdown",
      "metadata": {
        "id": "_bVx4Q5rnJao",
        "colab_type": "text"
      },
      "source": [
        "# Leet Code"
      ]
    },
    {
      "cell_type": "markdown",
      "metadata": {
        "id": "RcwvoLbonNAt",
        "colab_type": "text"
      },
      "source": [
        "## Contiguous Array\n"
      ]
    },
    {
      "cell_type": "markdown",
      "metadata": {
        "id": "YVdTDIVRnO84",
        "colab_type": "text"
      },
      "source": [
        "Given a binary array, find the maximum length of a contiguous subarray with equal number of 0 and 1.\n",
        "\n",
        "Example 1:\n",
        "Input: [0,1]\n",
        "Output: 2\n",
        "Explanation: [0, 1] is the longest contiguous subarray with equal number of 0 and 1."
      ]
    },
    {
      "cell_type": "code",
      "metadata": {
        "id": "XF_62AqwnMWU",
        "colab_type": "code",
        "colab": {}
      },
      "source": [
        ""
      ],
      "execution_count": 0,
      "outputs": []
    }
  ]
}