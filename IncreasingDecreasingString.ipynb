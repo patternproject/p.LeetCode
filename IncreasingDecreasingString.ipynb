{
  "nbformat": 4,
  "nbformat_minor": 0,
  "metadata": {
    "colab": {
      "name": "IncreasingDecreasingString.ipynb",
      "provenance": [],
      "authorship_tag": "ABX9TyNEWq8/42MnXtXdEQkZvntq",
      "include_colab_link": true
    },
    "kernelspec": {
      "name": "python3",
      "display_name": "Python 3"
    }
  },
  "cells": [
    {
      "cell_type": "markdown",
      "metadata": {
        "id": "view-in-github",
        "colab_type": "text"
      },
      "source": [
        "<a href=\"https://colab.research.google.com/github/patternproject/p.LeetCode/blob/BiWeekly-21/IncreasingDecreasingString.ipynb\" target=\"_parent\"><img src=\"https://colab.research.google.com/assets/colab-badge.svg\" alt=\"Open In Colab\"/></a>"
      ]
    },
    {
      "cell_type": "markdown",
      "metadata": {
        "id": "e3V1_lTiigzh",
        "colab_type": "text"
      },
      "source": [
        "# 5336. Increasing Decreasing String\n",
        "\n",
        "https://leetcode.com/contest/biweekly-contest-21/problems/increasing-decreasing-string/\n",
        "\n",
        "Part of biweekly-contest-21\n",
        "\n"
      ]
    },
    {
      "cell_type": "markdown",
      "metadata": {
        "id": "kigQU8ZLivZa",
        "colab_type": "text"
      },
      "source": [
        "Rev History\n",
        "\n",
        "\n",
        "\n",
        "*   v0: First Committ \n",
        "*   v1: Minor Changes \n",
        "\n"
      ]
    },
    {
      "cell_type": "markdown",
      "metadata": {
        "id": "9A0q-N-sihEN",
        "colab_type": "text"
      },
      "source": [
        ""
      ]
    },
    {
      "cell_type": "code",
      "metadata": {
        "id": "1L_25SNaZ6XH",
        "colab_type": "code",
        "colab": {
          "base_uri": "https://localhost:8080/",
          "height": 34
        },
        "outputId": "163ae77a-5eef-457b-b2ca-764eedb9ef41"
      },
      "source": [
        "  a = [1,1,1,1,2,2,2,2,3,3,4,5,5]\n",
        "  d = {x:a.count(x) for x in a}\n",
        "  d\n",
        "  a, b = d.keys(), d.values()\n",
        "  a"
      ],
      "execution_count": 1,
      "outputs": [
        {
          "output_type": "execute_result",
          "data": {
            "text/plain": [
              "dict_keys([1, 2, 3, 4, 5])"
            ]
          },
          "metadata": {
            "tags": []
          },
          "execution_count": 1
        }
      ]
    },
    {
      "cell_type": "code",
      "metadata": {
        "id": "OtSLi_6aZ_Kn",
        "colab_type": "code",
        "colab": {
          "base_uri": "https://localhost:8080/",
          "height": 34
        },
        "outputId": "ed422f9e-e699-4e04-90e7-89bc222e6919"
      },
      "source": [
        "b"
      ],
      "execution_count": 2,
      "outputs": [
        {
          "output_type": "execute_result",
          "data": {
            "text/plain": [
              "dict_values([4, 4, 2, 1, 2])"
            ]
          },
          "metadata": {
            "tags": []
          },
          "execution_count": 2
        }
      ]
    },
    {
      "cell_type": "code",
      "metadata": {
        "id": "BrF51exLaGJj",
        "colab_type": "code",
        "colab": {}
      },
      "source": [
        "a = \"aaaabbbbcccc\""
      ],
      "execution_count": 0,
      "outputs": []
    },
    {
      "cell_type": "code",
      "metadata": {
        "id": "OfawljTFaMHK",
        "colab_type": "code",
        "colab": {
          "base_uri": "https://localhost:8080/",
          "height": 34
        },
        "outputId": "e6bf0e76-f918-4abb-bb90-bc67b1a75aa3"
      },
      "source": [
        "d = {x:a.count(x) for x in a}\n",
        "d\n",
        "a, b = d.keys(), d.values()\n",
        "a"
      ],
      "execution_count": 4,
      "outputs": [
        {
          "output_type": "execute_result",
          "data": {
            "text/plain": [
              "dict_keys(['a', 'b', 'c'])"
            ]
          },
          "metadata": {
            "tags": []
          },
          "execution_count": 4
        }
      ]
    },
    {
      "cell_type": "code",
      "metadata": {
        "id": "evnZvhZsaPs6",
        "colab_type": "code",
        "colab": {
          "base_uri": "https://localhost:8080/",
          "height": 34
        },
        "outputId": "2820a248-bf1a-4cc6-c63a-b3282fc6c7c5"
      },
      "source": [
        "d = {x:x.count(x) for x in a}\n",
        "d\n",
        "a, b = d.keys(), d.values()\n",
        "a"
      ],
      "execution_count": 5,
      "outputs": [
        {
          "output_type": "execute_result",
          "data": {
            "text/plain": [
              "dict_keys(['a', 'b', 'c'])"
            ]
          },
          "metadata": {
            "tags": []
          },
          "execution_count": 5
        }
      ]
    },
    {
      "cell_type": "markdown",
      "metadata": {
        "id": "qUO_iBhejQfq",
        "colab_type": "text"
      },
      "source": [
        "Code pushed so far"
      ]
    },
    {
      "cell_type": "code",
      "metadata": {
        "id": "lbtaBBb6a9Ig",
        "colab_type": "code",
        "colab": {
          "base_uri": "https://localhost:8080/",
          "height": 54
        },
        "outputId": "94f2dc8d-fcc0-4c85-9736-2ed77bff4fb9"
      },
      "source": [
        "'''\n",
        "\n",
        "class Solution:\n",
        "    def sortString(self, s: str) -> str:\n",
        "        l = len(s)\n",
        "        print(l)\n",
        "        l_s = list(s)\n",
        "        l_s = l_s.sort()\n",
        "        print(l_s)\n",
        "        l_output = []\n",
        "        \n",
        "        # dictionary comprehension\n",
        "        d_temp = {x:s.count(x) for x in s}\n",
        "        \n",
        "        a, b = d_temp.keys(), d_temp.values()\n",
        "        print(a)\n",
        "        print(b)\n",
        "        \n",
        "        temp_a = list(a).sort()\n",
        "        \n",
        "        print(temp_a)\n",
        "\n",
        "'''"
      ],
      "execution_count": 6,
      "outputs": [
        {
          "output_type": "execute_result",
          "data": {
            "text/plain": [
              "'\\n\\nclass Solution:\\n    def sortString(self, s: str) -> str:\\n        l = len(s)\\n        print(l)\\n        l_s = list(s)\\n        l_s = l_s.sort()\\n        print(l_s)\\n        l_output = []\\n        \\n        # dictionary comprehension\\n        d_temp = {x:s.count(x) for x in s}\\n        \\n        a, b = d_temp.keys(), d_temp.values()\\n        print(a)\\n        print(b)\\n        \\n        temp_a = list(a).sort()\\n        \\n        print(temp_a)\\n\\n'"
            ]
          },
          "metadata": {
            "tags": []
          },
          "execution_count": 6
        }
      ]
    },
    {
      "cell_type": "markdown",
      "metadata": {
        "id": "bMY2oH4YiQEo",
        "colab_type": "text"
      },
      "source": [
        ""
      ]
    }
  ]
}